{
 "cells": [
  {
   "cell_type": "code",
   "execution_count": null,
   "id": "1b81494f",
   "metadata": {},
   "outputs": [],
   "source": [
    "Functions : Functions will be one of our main building blocks when we cnstruct larger and larger amount of code to solve\n",
    "problem\n"
   ]
  },
  {
   "cell_type": "code",
   "execution_count": null,
   "id": "7fe0bda5",
   "metadata": {},
   "outputs": [],
   "source": [
    "#def: def is the key to define the function\n",
    "def name_of_function(arg1,arg2):\n",
    "'''\n",
    "\"here we can write group of code document function\"\n",
    "'''\n",
    "# Do stuff here\n",
    "# return desired result"
   ]
  },
  {
   "cell_type": "code",
   "execution_count": 3,
   "id": "cbaf439c",
   "metadata": {},
   "outputs": [],
   "source": [
    "def say_hello():\n",
    "    print('this is working as a function')"
   ]
  },
  {
   "cell_type": "code",
   "execution_count": 4,
   "id": "865e4888",
   "metadata": {},
   "outputs": [
    {
     "name": "stdout",
     "output_type": "stream",
     "text": [
      "this is working as a function\n"
     ]
    }
   ],
   "source": [
    "#call a function\n",
    "say_hello()"
   ]
  },
  {
   "cell_type": "code",
   "execution_count": 11,
   "id": "17f27f31",
   "metadata": {},
   "outputs": [],
   "source": [
    "# Example2 : A sample geeting function\n",
    "def greeting(name):\n",
    "    print('Hello', name)\n",
    "    # %s = sting formating, % = passing the argument\n",
    "    print('Hello %s' %name)"
   ]
  },
  {
   "cell_type": "code",
   "execution_count": 12,
   "id": "c382ee0a",
   "metadata": {},
   "outputs": [
    {
     "name": "stdout",
     "output_type": "stream",
     "text": [
      "Hello Dear Students\n",
      "Hello Dear Students\n"
     ]
    }
   ],
   "source": [
    "#Dear student replace this name\n",
    "greeting('Dear Students')"
   ]
  },
  {
   "cell_type": "code",
   "execution_count": 40,
   "id": "e2d5d4fc",
   "metadata": {},
   "outputs": [],
   "source": [
    "# Return = return statement is allows to result can be stored as a variable\n",
    "#without return\n",
    "def salary_incr(salary):\n",
    "    if salary<= 9000:\n",
    "        (salary+1000)\n",
    "    else:\n",
    "        salary"
   ]
  },
  {
   "cell_type": "code",
   "execution_count": 41,
   "id": "5ca43847",
   "metadata": {},
   "outputs": [],
   "source": [
    "salary_incr(8000)"
   ]
  },
  {
   "cell_type": "code",
   "execution_count": 42,
   "id": "d24472b2",
   "metadata": {},
   "outputs": [
    {
     "name": "stdout",
     "output_type": "stream",
     "text": [
      "None\n"
     ]
    }
   ],
   "source": [
    "print(salary_incr(8000))"
   ]
  },
  {
   "cell_type": "code",
   "execution_count": 35,
   "id": "b76aa70f",
   "metadata": {},
   "outputs": [],
   "source": [
    "#with return\n",
    "def sal(salry):\n",
    "    if salry <=9000:\n",
    "        return (salry+1000)\n",
    "    else:\n",
    "        return salry"
   ]
  },
  {
   "cell_type": "code",
   "execution_count": 36,
   "id": "6af94e5e",
   "metadata": {},
   "outputs": [
    {
     "name": "stdout",
     "output_type": "stream",
     "text": [
      "your salary is = 2500\n"
     ]
    }
   ],
   "source": [
    "print(\"your salary is =\", sal(1500))"
   ]
  },
  {
   "cell_type": "code",
   "execution_count": 43,
   "id": "6ac482bf",
   "metadata": {},
   "outputs": [],
   "source": [
    "#multiple arguments\n",
    "def stu_marks(math,science,english):\n",
    "    return (math+science+english)"
   ]
  },
  {
   "cell_type": "code",
   "execution_count": 44,
   "id": "5ef80655",
   "metadata": {},
   "outputs": [
    {
     "name": "stdout",
     "output_type": "stream",
     "text": [
      "Total Marks is= 255\n"
     ]
    }
   ],
   "source": [
    "print(\"Total Marks is=\", stu_marks(75,85,95))"
   ]
  },
  {
   "cell_type": "code",
   "execution_count": 45,
   "id": "2b6d5613",
   "metadata": {},
   "outputs": [
    {
     "data": {
      "text/plain": [
       "215"
      ]
     },
     "execution_count": 45,
     "metadata": {},
     "output_type": "execute_result"
    }
   ],
   "source": [
    "total_marks = stu_marks(75,45,95)\n",
    "total_marks"
   ]
  },
  {
   "cell_type": "code",
   "execution_count": 48,
   "id": "de8fe7d4",
   "metadata": {},
   "outputs": [
    {
     "name": "stdout",
     "output_type": "stream",
     "text": [
      "265 - You are Distinction\n"
     ]
    }
   ],
   "source": [
    "total_marks =stu_marks(75,95,95)\n",
    "\n",
    "if total_marks < 90:\n",
    "    print(total_marks,'- You are Fail')\n",
    "elif total_marks >90 and total_marks <150:\n",
    "    print(total_marks,'- You are Pass')\n",
    "elif total_marks >151 and total_marks<250:\n",
    "    print(total_marks,'- You are First class')\n",
    "else:\n",
    "    print(total_marks,'- You are Distinction')"
   ]
  },
  {
   "cell_type": "code",
   "execution_count": 50,
   "id": "2312cf98",
   "metadata": {},
   "outputs": [],
   "source": [
    "def phone_buy(phone_make,phone_age,phone_gb):\n",
    "    if phone_make=='iphone11':\n",
    "        if 0<phone_age<6:\n",
    "            if phone_gb==128:\n",
    "                print('42,309 - 44,926')\n",
    "            elif phone_gb==64:\n",
    "                print('32,309 - 37,509')\n",
    "                \n",
    "        if 6<phone_age<12:\n",
    "            if phone_gb==128:\n",
    "                print('35,750 - 39,450')\n",
    "            elif phone_gb==64:\n",
    "                print('25,000-30,000')\n",
    "    elif phone_make=='sumsung':\n",
    "        if 0<phone_age<6:\n",
    "            if phone_gb==128:\n",
    "                print('27,000 - 31,000')\n",
    "            elif phone_gb==64:\n",
    "                print('20,000 - 23,000')"
   ]
  },
  {
   "cell_type": "code",
   "execution_count": 58,
   "id": "6a3bccd6",
   "metadata": {},
   "outputs": [
    {
     "name": "stdout",
     "output_type": "stream",
     "text": [
      "20,000 - 23,000\n"
     ]
    }
   ],
   "source": [
    "phone_buy('sumsung',5,64)"
   ]
  },
  {
   "cell_type": "code",
   "execution_count": 59,
   "id": "7655a1fb",
   "metadata": {},
   "outputs": [
    {
     "name": "stdout",
     "output_type": "stream",
     "text": [
      "27,000 - 31,000\n"
     ]
    }
   ],
   "source": [
    "phone_buy('sumsung',5,128)"
   ]
  },
  {
   "cell_type": "code",
   "execution_count": 60,
   "id": "a66c54f0",
   "metadata": {},
   "outputs": [],
   "source": [
    "def sqr(number):\n",
    "    for n in range(2,number):\n",
    "        if n%2 == 0:\n",
    "            print('squared :',n**2)\n",
    "        else:\n",
    "            print('It is and odd number : ',n)"
   ]
  },
  {
   "cell_type": "code",
   "execution_count": 62,
   "id": "f948f421",
   "metadata": {},
   "outputs": [
    {
     "name": "stdout",
     "output_type": "stream",
     "text": [
      "squared : 4\n",
      "It is and odd number :  3\n",
      "squared : 16\n",
      "It is and odd number :  5\n",
      "squared : 36\n"
     ]
    }
   ],
   "source": [
    "sqr(7)"
   ]
  },
  {
   "cell_type": "code",
   "execution_count": 64,
   "id": "a24f8ed0",
   "metadata": {},
   "outputs": [],
   "source": [
    "#lambda function : it is use only one time\n",
    "#lambda arguments : expression"
   ]
  },
  {
   "cell_type": "code",
   "execution_count": 65,
   "id": "edf088d9",
   "metadata": {},
   "outputs": [
    {
     "name": "stdout",
     "output_type": "stream",
     "text": [
      "80\n"
     ]
    }
   ],
   "source": [
    "add_num = lambda y : y+30\n",
    "print(add_num(50))"
   ]
  },
  {
   "cell_type": "code",
   "execution_count": 66,
   "id": "3a4e0832",
   "metadata": {},
   "outputs": [
    {
     "name": "stdout",
     "output_type": "stream",
     "text": [
      "300\n"
     ]
    }
   ],
   "source": [
    "#multiple argument\n",
    "mult_num = lambda a,b : a*b\n",
    "print(mult_num(15,20))"
   ]
  },
  {
   "cell_type": "code",
   "execution_count": 67,
   "id": "0ee40fc0",
   "metadata": {},
   "outputs": [],
   "source": [
    "#args and kwargs multipe arguments in result\n",
    "def my_fun(*args):\n",
    "    for i in args:\n",
    "        print('my args: ',i)"
   ]
  },
  {
   "cell_type": "code",
   "execution_count": 68,
   "id": "2736a587",
   "metadata": {},
   "outputs": [
    {
     "name": "stdout",
     "output_type": "stream",
     "text": [
      "my args:  India\n",
      "my args:  56\n",
      "my args:  30.4\n",
      "my args:  569\n"
     ]
    }
   ],
   "source": [
    "my_fun('India',56,30.4,569)"
   ]
  },
  {
   "cell_type": "code",
   "execution_count": 72,
   "id": "0650174e",
   "metadata": {},
   "outputs": [],
   "source": [
    "def my_fun(**kwargs):\n",
    "    for i,n in kwargs.items():\n",
    "        print(i,n)"
   ]
  },
  {
   "cell_type": "code",
   "execution_count": 73,
   "id": "6e527916",
   "metadata": {},
   "outputs": [
    {
     "name": "stdout",
     "output_type": "stream",
     "text": [
      "stu ['ram', 'deepak']\n",
      "marks [24, 56]\n"
     ]
    }
   ],
   "source": [
    "my_fun(stu=['ram','deepak'],marks=[24,56])"
   ]
  },
  {
   "cell_type": "code",
   "execution_count": null,
   "id": "6f2a4371",
   "metadata": {},
   "outputs": [],
   "source": []
  }
 ],
 "metadata": {
  "kernelspec": {
   "display_name": "Python 3 (ipykernel)",
   "language": "python",
   "name": "python3"
  },
  "language_info": {
   "codemirror_mode": {
    "name": "ipython",
    "version": 3
   },
   "file_extension": ".py",
   "mimetype": "text/x-python",
   "name": "python",
   "nbconvert_exporter": "python",
   "pygments_lexer": "ipython3",
   "version": "3.9.7"
  }
 },
 "nbformat": 4,
 "nbformat_minor": 5
}
