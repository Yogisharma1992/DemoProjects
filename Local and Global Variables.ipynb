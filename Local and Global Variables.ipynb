{
 "cells": [
  {
   "cell_type": "code",
   "execution_count": 2,
   "id": "b36ee3db",
   "metadata": {},
   "outputs": [
    {
     "name": "stdout",
     "output_type": "stream",
     "text": [
      "print inside the function total is  45\n"
     ]
    }
   ],
   "source": [
    "#global Variable : variable defined outside the function.this is variable can be used outside as well as inside the function.\n",
    "extra_marks =10\n",
    "def tot_score_glob():\n",
    "    print('print inside the function total is ',35+extra_marks)\n",
    "    \n",
    "tot_score_glob()"
   ]
  },
  {
   "cell_type": "code",
   "execution_count": 4,
   "id": "e86500f1",
   "metadata": {},
   "outputs": [
    {
     "name": "stdout",
     "output_type": "stream",
     "text": [
      "print outside the function total is  45\n"
     ]
    }
   ],
   "source": [
    "print('print outside the function total is ',35+extra_marks)"
   ]
  },
  {
   "cell_type": "code",
   "execution_count": 6,
   "id": "e88ff8d1",
   "metadata": {},
   "outputs": [
    {
     "name": "stdout",
     "output_type": "stream",
     "text": [
      "Printing inside the function and total is  85\n"
     ]
    }
   ],
   "source": [
    "#local variable : variable defined inside thhe function. this varible can be used only inside the function.\n",
    "def top_score_lcl():\n",
    "    some_marks = 50\n",
    "    print(\"Printing inside the function and total is \",35+some_marks)\n",
    "    \n",
    "top_score_lcl()"
   ]
  },
  {
   "cell_type": "code",
   "execution_count": 7,
   "id": "47a21270",
   "metadata": {},
   "outputs": [
    {
     "ename": "NameError",
     "evalue": "name 'some_marks' is not defined",
     "output_type": "error",
     "traceback": [
      "\u001b[1;31m---------------------------------------------------------------------------\u001b[0m",
      "\u001b[1;31mNameError\u001b[0m                                 Traceback (most recent call last)",
      "\u001b[1;32m~\\AppData\\Local\\Temp/ipykernel_10236/3766158311.py\u001b[0m in \u001b[0;36m<module>\u001b[1;34m\u001b[0m\n\u001b[1;32m----> 1\u001b[1;33m \u001b[0mprint\u001b[0m\u001b[1;33m(\u001b[0m\u001b[1;34m\"Printing inside the function and total is \"\u001b[0m\u001b[1;33m,\u001b[0m\u001b[1;36m35\u001b[0m\u001b[1;33m+\u001b[0m\u001b[0msome_marks\u001b[0m\u001b[1;33m)\u001b[0m\u001b[1;33m\u001b[0m\u001b[1;33m\u001b[0m\u001b[0m\n\u001b[0m",
      "\u001b[1;31mNameError\u001b[0m: name 'some_marks' is not defined"
     ]
    }
   ],
   "source": [
    "print(\"Printing inside the function and total is \",35+some_marks)"
   ]
  },
  {
   "cell_type": "code",
   "execution_count": 1,
   "id": "62614ddd",
   "metadata": {},
   "outputs": [
    {
     "name": "stdout",
     "output_type": "stream",
     "text": [
      "printing inside the funtion and total is 85\n"
     ]
    }
   ],
   "source": [
    "#then how to use local variable, outside the function? :::---->>> use global keyword inside the function\n",
    "def top_score():\n",
    "    global some_marks\n",
    "    some_marks =50\n",
    "    print('printing inside the funtion and total is', 35+some_marks)\n",
    "    \n",
    "top_score()"
   ]
  },
  {
   "cell_type": "code",
   "execution_count": 2,
   "id": "a3e955ba",
   "metadata": {},
   "outputs": [
    {
     "name": "stdout",
     "output_type": "stream",
     "text": [
      "printing outside the function and total is 85\n"
     ]
    }
   ],
   "source": [
    "print('printing outside the function and total is', 35+some_marks)"
   ]
  },
  {
   "cell_type": "code",
   "execution_count": null,
   "id": "1278c0ae",
   "metadata": {},
   "outputs": [],
   "source": []
  }
 ],
 "metadata": {
  "kernelspec": {
   "display_name": "Python 3 (ipykernel)",
   "language": "python",
   "name": "python3"
  },
  "language_info": {
   "codemirror_mode": {
    "name": "ipython",
    "version": 3
   },
   "file_extension": ".py",
   "mimetype": "text/x-python",
   "name": "python",
   "nbconvert_exporter": "python",
   "pygments_lexer": "ipython3",
   "version": "3.9.7"
  }
 },
 "nbformat": 4,
 "nbformat_minor": 5
}
