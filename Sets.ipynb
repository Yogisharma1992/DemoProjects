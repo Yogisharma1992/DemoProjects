{
 "cells": [
  {
   "cell_type": "code",
   "execution_count": 1,
   "id": "0f28fc63",
   "metadata": {},
   "outputs": [],
   "source": [
    "#Sets are an unordered collection of unique element which can be constructed usin the set() function\n",
    "# 1. duplicate reemove\n",
    "# 2. sort automatically"
   ]
  },
  {
   "cell_type": "code",
   "execution_count": 2,
   "id": "ac601cc1",
   "metadata": {},
   "outputs": [],
   "source": [
    "#create set()\n",
    "roll_number=set()"
   ]
  },
  {
   "cell_type": "code",
   "execution_count": 3,
   "id": "371b394d",
   "metadata": {},
   "outputs": [
    {
     "data": {
      "text/plain": [
       "set"
      ]
     },
     "execution_count": 3,
     "metadata": {},
     "output_type": "execute_result"
    }
   ],
   "source": [
    "type(roll_number)"
   ]
  },
  {
   "cell_type": "code",
   "execution_count": 4,
   "id": "fc1e0c61",
   "metadata": {},
   "outputs": [
    {
     "name": "stdout",
     "output_type": "stream",
     "text": [
      "{1}\n"
     ]
    }
   ],
   "source": [
    "#adding the data in the set\n",
    "roll_number.add(1)\n",
    "print(roll_number)"
   ]
  },
  {
   "cell_type": "code",
   "execution_count": 5,
   "id": "c12b335b",
   "metadata": {},
   "outputs": [
    {
     "data": {
      "text/plain": [
       "{1, 2}"
      ]
     },
     "execution_count": 5,
     "metadata": {},
     "output_type": "execute_result"
    }
   ],
   "source": [
    "roll_number.add(2)\n",
    "roll_number"
   ]
  },
  {
   "cell_type": "code",
   "execution_count": 6,
   "id": "055b1769",
   "metadata": {},
   "outputs": [
    {
     "data": {
      "text/plain": [
       "{1, 2}"
      ]
     },
     "execution_count": 6,
     "metadata": {},
     "output_type": "execute_result"
    }
   ],
   "source": [
    "#adding duplicate number show only one number\n",
    "roll_number.add(1)\n",
    "roll_number"
   ]
  },
  {
   "cell_type": "code",
   "execution_count": 7,
   "id": "ff8b1d4e",
   "metadata": {},
   "outputs": [
    {
     "name": "stdout",
     "output_type": "stream",
     "text": [
      "<class 'list'>\n"
     ]
    }
   ],
   "source": [
    "#create a list with verymuch duplicate numbers\n",
    "sal=[12,14,12,15,14,16,18,45,45]\n",
    "print(type(sal))"
   ]
  },
  {
   "cell_type": "code",
   "execution_count": 8,
   "id": "6d28de4b",
   "metadata": {},
   "outputs": [
    {
     "data": {
      "text/plain": [
       "{12, 14, 15, 16, 18, 45}"
      ]
     },
     "execution_count": 8,
     "metadata": {},
     "output_type": "execute_result"
    }
   ],
   "source": [
    "set(sal)"
   ]
  },
  {
   "cell_type": "code",
   "execution_count": 9,
   "id": "f5d0aae4",
   "metadata": {},
   "outputs": [
    {
     "data": {
      "text/plain": [
       "list"
      ]
     },
     "execution_count": 9,
     "metadata": {},
     "output_type": "execute_result"
    }
   ],
   "source": [
    "type(sal)"
   ]
  },
  {
   "cell_type": "code",
   "execution_count": 10,
   "id": "650daaba",
   "metadata": {},
   "outputs": [],
   "source": [
    "name = set()"
   ]
  },
  {
   "cell_type": "code",
   "execution_count": 11,
   "id": "5989c586",
   "metadata": {},
   "outputs": [],
   "source": [
    "name.add('yogesh')"
   ]
  },
  {
   "cell_type": "code",
   "execution_count": 12,
   "id": "c4b8285a",
   "metadata": {},
   "outputs": [
    {
     "data": {
      "text/plain": [
       "{'yogesh'}"
      ]
     },
     "execution_count": 12,
     "metadata": {},
     "output_type": "execute_result"
    }
   ],
   "source": [
    "name"
   ]
  },
  {
   "cell_type": "code",
   "execution_count": 13,
   "id": "41b29e1f",
   "metadata": {},
   "outputs": [
    {
     "data": {
      "text/plain": [
       "{'yogesh'}"
      ]
     },
     "execution_count": 13,
     "metadata": {},
     "output_type": "execute_result"
    }
   ],
   "source": [
    "name.add('yogesh')\n",
    "name"
   ]
  },
  {
   "cell_type": "code",
   "execution_count": 14,
   "id": "be062a93",
   "metadata": {},
   "outputs": [],
   "source": [
    "#remove duplicate string also in the set"
   ]
  },
  {
   "cell_type": "code",
   "execution_count": 15,
   "id": "5b940e3b",
   "metadata": {},
   "outputs": [
    {
     "data": {
      "text/plain": [
       "{'ravi', 'shyam', 'yogesh'}"
      ]
     },
     "execution_count": 15,
     "metadata": {},
     "output_type": "execute_result"
    }
   ],
   "source": [
    "name = ['yogesh','ravi','shyam','yogesh']\n",
    "set(name)"
   ]
  },
  {
   "cell_type": "code",
   "execution_count": null,
   "id": "97c77b2f",
   "metadata": {},
   "outputs": [],
   "source": []
  }
 ],
 "metadata": {
  "kernelspec": {
   "display_name": "Python 3 (ipykernel)",
   "language": "python",
   "name": "python3"
  },
  "language_info": {
   "codemirror_mode": {
    "name": "ipython",
    "version": 3
   },
   "file_extension": ".py",
   "mimetype": "text/x-python",
   "name": "python",
   "nbconvert_exporter": "python",
   "pygments_lexer": "ipython3",
   "version": "3.9.7"
  }
 },
 "nbformat": 4,
 "nbformat_minor": 5
}
