{
 "cells": [
  {
   "cell_type": "code",
   "execution_count": 1,
   "id": "b9633b32",
   "metadata": {},
   "outputs": [],
   "source": [
    "#Errors and Exception Handling\n",
    "#Code smartly and minimise the errors\n",
    "marks_1 = 88\n",
    "sunject = 'Data Science'\n",
    "marks_2 = 33"
   ]
  },
  {
   "cell_type": "code",
   "execution_count": 2,
   "id": "cd28bbde",
   "metadata": {},
   "outputs": [
    {
     "name": "stdout",
     "output_type": "stream",
     "text": [
      "You are adding to string. Make sure both data types are matching\n"
     ]
    }
   ],
   "source": [
    "try:\n",
    "    total = marks_1+ sunject\n",
    "    #print() you can also return the here\n",
    "except TypeError:\n",
    "    print('You are adding to string. Make sure both data types are matching')\n",
    "    \n",
    "#Else is optional sometimes\n",
    "else:\n",
    "    print('Totam Marks is: ',total)"
   ]
  },
  {
   "cell_type": "code",
   "execution_count": 4,
   "id": "ecd0c4c1",
   "metadata": {},
   "outputs": [
    {
     "name": "stdout",
     "output_type": "stream",
     "text": [
      "Total Marks is:  121\n"
     ]
    }
   ],
   "source": [
    "try:\n",
    "    total = marks_1+ marks_2\n",
    "    #print() you can also return the here\n",
    "except TypeError:\n",
    "    print('You are adding to string. Make sure both data types are matching')\n",
    "    \n",
    "#Else is optional sometimes\n",
    "else:\n",
    "    print('Total Marks is: ',total)"
   ]
  },
  {
   "cell_type": "code",
   "execution_count": 11,
   "id": "566122a4",
   "metadata": {},
   "outputs": [
    {
     "name": "stdout",
     "output_type": "stream",
     "text": [
      "Enter your Car Number:KA-m85585\n",
      "Enter your name:Yogesh\n",
      "Enter your mobile number:7878787878\n",
      "Thanks for the information\n"
     ]
    }
   ],
   "source": [
    "#Real time how its works\n",
    "try:\n",
    "    car_number = input('Enter your Car Number:')\n",
    "    name = input('Enter your name:')\n",
    "    mobile = input('Enter your mobile number:')\n",
    "    \n",
    "    if car_number =='':\n",
    "        raise Exception()\n",
    "    elif name == '':\n",
    "        raise Exception()\n",
    "    elif mobile =='':\n",
    "        raise Exception()\n",
    "    else:\n",
    "        pass\n",
    "except:\n",
    "    #for car number\n",
    "    if car_number =='':\n",
    "        print('\\n The Registration number feild is required.')  # \\n move to the next line\n",
    "    \n",
    "    #for Name\n",
    "    if name =='':\n",
    "        print('\\n The Customer name is required.')\n",
    "    \n",
    "    #for mobile number\n",
    "    if mobile =='':\n",
    "        print('\\n Mobile number feild s required.')\n",
    "else:\n",
    "    print('Thanks for the information')"
   ]
  },
  {
   "cell_type": "code",
   "execution_count": 13,
   "id": "5813e563",
   "metadata": {},
   "outputs": [
    {
     "name": "stdout",
     "output_type": "stream",
     "text": [
      "Enter your Car Number:\n",
      "Enter your name:\n",
      "Enter your mobile number:\n",
      "\n",
      " The Registration number feild is required.\n",
      "\n",
      " The Customer name is required.\n",
      "\n",
      " Mobile number feild s required.\n",
      "\n",
      " finally means its excuted\n"
     ]
    }
   ],
   "source": [
    "#Real time how its works\n",
    "try:\n",
    "    car_number = input('Enter your Car Number:')\n",
    "    name = input('Enter your name:')\n",
    "    mobile = input('Enter your mobile number:')\n",
    "    \n",
    "    if car_number =='':\n",
    "        raise Exception()\n",
    "    elif name == '':\n",
    "        raise Exception()\n",
    "    elif mobile =='':\n",
    "        raise Exception()\n",
    "    else:\n",
    "        pass\n",
    "except:\n",
    "    #for car number\n",
    "    if car_number =='':\n",
    "        print('\\n The Registration number feild is required.')  # \\n move to the next line\n",
    "    \n",
    "    #for Name\n",
    "    if name =='':\n",
    "        print('\\n The Customer name is required.')\n",
    "    \n",
    "    #for mobile number\n",
    "    if mobile =='':\n",
    "        print('\\n Mobile number feild s required.')\n",
    "#finally block excute all the time no matter what happens in the above try and except block\n",
    "finally:\n",
    "    print('\\n finally means its excuted')"
   ]
  },
  {
   "cell_type": "code",
   "execution_count": 14,
   "id": "07c5151f",
   "metadata": {},
   "outputs": [],
   "source": [
    "def mobile_num():\n",
    "    try:\n",
    "        val = int(input('Plese enter your phone number: '))\n",
    "    except:\n",
    "        print('looks like you did not enter an integer')\n",
    "        \n",
    "    print(val)"
   ]
  },
  {
   "cell_type": "code",
   "execution_count": 16,
   "id": "c3445dd2",
   "metadata": {},
   "outputs": [
    {
     "name": "stdout",
     "output_type": "stream",
     "text": [
      "Plese enter your phone number: \n",
      "looks like you did not enter an integer\n"
     ]
    },
    {
     "ename": "UnboundLocalError",
     "evalue": "local variable 'val' referenced before assignment",
     "output_type": "error",
     "traceback": [
      "\u001b[1;31m---------------------------------------------------------------------------\u001b[0m",
      "\u001b[1;31mUnboundLocalError\u001b[0m                         Traceback (most recent call last)",
      "\u001b[1;32m~\\AppData\\Local\\Temp/ipykernel_12252/51363504.py\u001b[0m in \u001b[0;36m<module>\u001b[1;34m\u001b[0m\n\u001b[1;32m----> 1\u001b[1;33m \u001b[0mmobile_num\u001b[0m\u001b[1;33m(\u001b[0m\u001b[1;33m)\u001b[0m\u001b[1;33m\u001b[0m\u001b[1;33m\u001b[0m\u001b[0m\n\u001b[0m",
      "\u001b[1;32m~\\AppData\\Local\\Temp/ipykernel_12252/2603916480.py\u001b[0m in \u001b[0;36mmobile_num\u001b[1;34m()\u001b[0m\n\u001b[0;32m      5\u001b[0m         \u001b[0mprint\u001b[0m\u001b[1;33m(\u001b[0m\u001b[1;34m'looks like you did not enter an integer'\u001b[0m\u001b[1;33m)\u001b[0m\u001b[1;33m\u001b[0m\u001b[1;33m\u001b[0m\u001b[0m\n\u001b[0;32m      6\u001b[0m \u001b[1;33m\u001b[0m\u001b[0m\n\u001b[1;32m----> 7\u001b[1;33m     \u001b[0mprint\u001b[0m\u001b[1;33m(\u001b[0m\u001b[0mval\u001b[0m\u001b[1;33m)\u001b[0m\u001b[1;33m\u001b[0m\u001b[1;33m\u001b[0m\u001b[0m\n\u001b[0m",
      "\u001b[1;31mUnboundLocalError\u001b[0m: local variable 'val' referenced before assignment"
     ]
    }
   ],
   "source": [
    "mobile_num()"
   ]
  },
  {
   "cell_type": "code",
   "execution_count": 17,
   "id": "729c3eea",
   "metadata": {},
   "outputs": [],
   "source": [
    "def mobile_num():\n",
    "    while True:\n",
    "        try:\n",
    "            val = int(input('Please enter mobile number: '))\n",
    "        except:\n",
    "            print('looks like you did not enter an integer')\n",
    "            continue\n",
    "        else:\n",
    "            if len(str(val))!=10:\n",
    "                print('mobile number must be 10 digit')\n",
    "                continue\n",
    "            print('Thank You')\n",
    "            break"
   ]
  },
  {
   "cell_type": "code",
   "execution_count": 18,
   "id": "4de9bd72",
   "metadata": {},
   "outputs": [
    {
     "name": "stdout",
     "output_type": "stream",
     "text": [
      "Please enter mobile number: \n",
      "looks like you did not enter an integer\n",
      "Please enter mobile number: yogesh\n",
      "looks like you did not enter an integer\n",
      "Please enter mobile number: 777777777777777777\n",
      "mobile number must be 10 digit\n",
      "Please enter mobile number: 7878787878\n",
      "Thank You\n"
     ]
    }
   ],
   "source": [
    "mobile_num()"
   ]
  },
  {
   "cell_type": "code",
   "execution_count": null,
   "id": "b07a660b",
   "metadata": {},
   "outputs": [],
   "source": []
  }
 ],
 "metadata": {
  "kernelspec": {
   "display_name": "Python 3 (ipykernel)",
   "language": "python",
   "name": "python3"
  },
  "language_info": {
   "codemirror_mode": {
    "name": "ipython",
    "version": 3
   },
   "file_extension": ".py",
   "mimetype": "text/x-python",
   "name": "python",
   "nbconvert_exporter": "python",
   "pygments_lexer": "ipython3",
   "version": "3.9.7"
  }
 },
 "nbformat": 4,
 "nbformat_minor": 5
}
