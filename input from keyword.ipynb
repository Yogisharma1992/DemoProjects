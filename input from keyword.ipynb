{
 "cells": [
  {
   "cell_type": "code",
   "execution_count": 1,
   "id": "fa6a71d8",
   "metadata": {},
   "outputs": [
    {
     "name": "stdout",
     "output_type": "stream",
     "text": [
      "Entre your name Yogesh\n",
      "User Entered:  Yogesh\n"
     ]
    }
   ],
   "source": [
    "#user give to the inputs in the program use input keyword\n",
    "name = input('Entre your name ')\n",
    "print('User Entered: ',name)"
   ]
  },
  {
   "cell_type": "code",
   "execution_count": 2,
   "id": "d3855ea5",
   "metadata": {},
   "outputs": [
    {
     "name": "stdout",
     "output_type": "stream",
     "text": [
      "Enter Math score 56\n",
      "Enter Sciecne score 45\n",
      "Total marks is:  101\n"
     ]
    }
   ],
   "source": [
    "maths = int(input('Enter Math score ')) #ansuring data should be in interger form\n",
    "science = int(input('Enter Sciecne score '))\n",
    "total_marks = maths+science\n",
    "print('Total marks is: ',total_marks)"
   ]
  },
  {
   "cell_type": "code",
   "execution_count": 4,
   "id": "8d30d6aa",
   "metadata": {},
   "outputs": [
    {
     "name": "stdout",
     "output_type": "stream",
     "text": [
      "Enter your name:Yogesh\n",
      "You Entered:  Yogesh\n"
     ]
    }
   ],
   "source": [
    "#how to check only letters\n",
    "name = input('Enter your name:')\n",
    "if name.isalpha():\n",
    "    print('You Entered: ',name)\n",
    "else:\n",
    "    print('Enter only Alpha characters')"
   ]
  },
  {
   "cell_type": "code",
   "execution_count": 6,
   "id": "55560e26",
   "metadata": {},
   "outputs": [],
   "source": [
    "def phone_buy(phone_make,phone_age,phone_gb):\n",
    "    if phone_make=='iphone11':\n",
    "        if 0<phone_age<6:\n",
    "            if phone_gb==128:\n",
    "                print('42,309 - 44,926')\n",
    "            elif phone_gb==64:\n",
    "                print('32,309 - 37,509')\n",
    "                \n",
    "        if 6<phone_age<12:\n",
    "            if phone_gb==128:\n",
    "                print('35,750 - 39,450')\n",
    "            elif phone_gb==64:\n",
    "                print('25,000-30,000')\n",
    "    elif phone_make=='sumsung':\n",
    "        if 0<phone_age<6:\n",
    "            if phone_gb==128:\n",
    "                print('27,000 - 31,000')\n",
    "            elif phone_gb==64:\n",
    "                print('20,000 - 23,000')\n",
    "    else:\n",
    "        print('No stock right now, please visit afterfew days')"
   ]
  },
  {
   "cell_type": "code",
   "execution_count": 7,
   "id": "6244de51",
   "metadata": {},
   "outputs": [
    {
     "name": "stdout",
     "output_type": "stream",
     "text": [
      "Enter phone Maker:iphone11\n",
      "Enter how old is your phone in months:5\n",
      "Enter GB in numbers:128\n",
      "42,309 - 44,926\n"
     ]
    }
   ],
   "source": [
    "phone = input('Enter phone Maker:')\n",
    "month_old = int(input('Enter how old is your phone in months:'))\n",
    "Capacity = int(input('Enter GB in numbers:'))\n",
    "phone_buy(phone,month_old,Capacity)"
   ]
  },
  {
   "cell_type": "code",
   "execution_count": null,
   "id": "9c80c43f",
   "metadata": {},
   "outputs": [],
   "source": []
  }
 ],
 "metadata": {
  "kernelspec": {
   "display_name": "Python 3 (ipykernel)",
   "language": "python",
   "name": "python3"
  },
  "language_info": {
   "codemirror_mode": {
    "name": "ipython",
    "version": 3
   },
   "file_extension": ".py",
   "mimetype": "text/x-python",
   "name": "python",
   "nbconvert_exporter": "python",
   "pygments_lexer": "ipython3",
   "version": "3.9.7"
  }
 },
 "nbformat": 4,
 "nbformat_minor": 5
}
