{
 "cells": [
  {
   "cell_type": "code",
   "execution_count": 1,
   "id": "09cfdee7",
   "metadata": {},
   "outputs": [
    {
     "name": "stdout",
     "output_type": "stream",
     "text": [
      "['Radha']\n"
     ]
    }
   ],
   "source": [
    "emp = []\n",
    "emp.append('Radha')\n",
    "print(emp)"
   ]
  },
  {
   "cell_type": "code",
   "execution_count": 2,
   "id": "3018910f",
   "metadata": {},
   "outputs": [
    {
     "name": "stdout",
     "output_type": "stream",
     "text": [
      "Requirement already satisfied: jedi==0.17.2 in c:\\users\\lenovo\\anaconda3\\lib\\site-packages (0.17.2)\n",
      "Requirement already satisfied: parso<0.8.0,>=0.7.0 in c:\\users\\lenovo\\anaconda3\\lib\\site-packages (from jedi==0.17.2) (0.7.1)\n"
     ]
    }
   ],
   "source": [
    "!pip3 install jedi==0.17.2"
   ]
  },
  {
   "cell_type": "code",
   "execution_count": 3,
   "id": "5c2ffcf4",
   "metadata": {},
   "outputs": [],
   "source": [
    "emp.append('yogesh')\n",
    "emp.append('Ramesh')"
   ]
  },
  {
   "cell_type": "code",
   "execution_count": 4,
   "id": "a27785d7",
   "metadata": {},
   "outputs": [
    {
     "name": "stdout",
     "output_type": "stream",
     "text": [
      "['Radha', 'yogesh', 'Ramesh']\n"
     ]
    }
   ],
   "source": [
    "print(emp)"
   ]
  },
  {
   "cell_type": "code",
   "execution_count": 5,
   "id": "9bf849e5",
   "metadata": {},
   "outputs": [
    {
     "name": "stdout",
     "output_type": "stream",
     "text": [
      "['Ravi', 'Radha', 'yogesh', 'Ramesh']\n"
     ]
    }
   ],
   "source": [
    "#insert is using for placing the data according to there position and always position starts with '0'\n",
    "emp.insert(0,'Ravi')\n",
    "print(emp)"
   ]
  },
  {
   "cell_type": "code",
   "execution_count": 6,
   "id": "3ed9487c",
   "metadata": {},
   "outputs": [
    {
     "name": "stdout",
     "output_type": "stream",
     "text": [
      "[45000, 15000, 25000, 35000]\n"
     ]
    }
   ],
   "source": [
    "sal =[15000,25000,35000]\n",
    "sal.insert(0,45000)\n",
    "print(sal)"
   ]
  },
  {
   "cell_type": "code",
   "execution_count": 7,
   "id": "c16d16c6",
   "metadata": {},
   "outputs": [
    {
     "name": "stdout",
     "output_type": "stream",
     "text": [
      "['Ravi', 'Radha', 'yogesh', 'Ramesh']\n"
     ]
    }
   ],
   "source": [
    "print(emp)"
   ]
  },
  {
   "cell_type": "code",
   "execution_count": 8,
   "id": "43a64ca8",
   "metadata": {},
   "outputs": [
    {
     "data": {
      "text/plain": [
       "4"
      ]
     },
     "execution_count": 8,
     "metadata": {},
     "output_type": "execute_result"
    }
   ],
   "source": [
    "#i want to know how many emp in my company so that we can use length funtion \"len\"\n",
    "len(emp)"
   ]
  },
  {
   "cell_type": "code",
   "execution_count": 9,
   "id": "70c2b7a1",
   "metadata": {},
   "outputs": [
    {
     "ename": "TypeError",
     "evalue": "'list' object is not callable",
     "output_type": "error",
     "traceback": [
      "\u001b[1;31m---------------------------------------------------------------------------\u001b[0m",
      "\u001b[1;31mTypeError\u001b[0m                                 Traceback (most recent call last)",
      "\u001b[1;32m~\\AppData\\Local\\Temp/ipykernel_15128/3602751706.py\u001b[0m in \u001b[0;36m<module>\u001b[1;34m\u001b[0m\n\u001b[0;32m      2\u001b[0m \u001b[1;31m#for backward direction indexing starts with -1,-2,-3,-4,.....\u001b[0m\u001b[1;33m\u001b[0m\u001b[1;33m\u001b[0m\u001b[0m\n\u001b[0;32m      3\u001b[0m \u001b[1;31m#for forward direction\u001b[0m\u001b[1;33m\u001b[0m\u001b[1;33m\u001b[0m\u001b[0m\n\u001b[1;32m----> 4\u001b[1;33m \u001b[0memp\u001b[0m\u001b[1;33m(\u001b[0m\u001b[1;36m3\u001b[0m\u001b[1;33m)\u001b[0m\u001b[1;33m\u001b[0m\u001b[1;33m\u001b[0m\u001b[0m\n\u001b[0m",
      "\u001b[1;31mTypeError\u001b[0m: 'list' object is not callable"
     ]
    }
   ],
   "source": [
    "#indexing works in both directions like (forward and backward direction) for forward indexing start with 0,1,2,3.... and\n",
    "#for backward direction indexing starts with -1,-2,-3,-4,.....\n",
    "#for forward direction\n",
    "emp(3)"
   ]
  },
  {
   "cell_type": "code",
   "execution_count": 10,
   "id": "67dcf9bf",
   "metadata": {},
   "outputs": [
    {
     "data": {
      "text/plain": [
       "'Ramesh'"
      ]
     },
     "execution_count": 10,
     "metadata": {},
     "output_type": "execute_result"
    }
   ],
   "source": [
    "emp[3]"
   ]
  },
  {
   "cell_type": "code",
   "execution_count": 11,
   "id": "21e9fd70",
   "metadata": {},
   "outputs": [
    {
     "data": {
      "text/plain": [
       "'yogesh'"
      ]
     },
     "execution_count": 11,
     "metadata": {},
     "output_type": "execute_result"
    }
   ],
   "source": [
    "#backward direction\n",
    "emp[-2]"
   ]
  },
  {
   "cell_type": "code",
   "execution_count": 1,
   "id": "5f5c9ce3",
   "metadata": {},
   "outputs": [
    {
     "ename": "NameError",
     "evalue": "name 'emp' is not defined",
     "output_type": "error",
     "traceback": [
      "\u001b[1;31m---------------------------------------------------------------------------\u001b[0m",
      "\u001b[1;31mNameError\u001b[0m                                 Traceback (most recent call last)",
      "\u001b[1;32m~\\AppData\\Local\\Temp/ipykernel_9984/1864754376.py\u001b[0m in \u001b[0;36m<module>\u001b[1;34m\u001b[0m\n\u001b[0;32m      1\u001b[0m \u001b[1;31m#update the list\u001b[0m\u001b[1;33m\u001b[0m\u001b[1;33m\u001b[0m\u001b[0m\n\u001b[1;32m----> 2\u001b[1;33m \u001b[0memp\u001b[0m\u001b[1;33m[\u001b[0m\u001b[1;36m1\u001b[0m\u001b[1;33m]\u001b[0m\u001b[1;33m=\u001b[0m\u001b[1;34m'Remo'\u001b[0m\u001b[1;33m\u001b[0m\u001b[1;33m\u001b[0m\u001b[0m\n\u001b[0m\u001b[0;32m      3\u001b[0m \u001b[0memp\u001b[0m\u001b[1;33m\u001b[0m\u001b[1;33m\u001b[0m\u001b[0m\n",
      "\u001b[1;31mNameError\u001b[0m: name 'emp' is not defined"
     ]
    }
   ],
   "source": [
    "#update the list\n",
    "emp[1]='Remo'\n",
    "emp"
   ]
  },
  {
   "cell_type": "code",
   "execution_count": 2,
   "id": "3ceb349b",
   "metadata": {},
   "outputs": [
    {
     "name": "stdout",
     "output_type": "stream",
     "text": [
      "['Ravi', 'yogesh', 'Radha', 'salman']\n"
     ]
    }
   ],
   "source": [
    "emp=['Ravi','yogesh','Radha','salman']\n",
    "print(emp)"
   ]
  },
  {
   "cell_type": "code",
   "execution_count": 3,
   "id": "668f5886",
   "metadata": {},
   "outputs": [
    {
     "name": "stdout",
     "output_type": "stream",
     "text": [
      "['Ravi', 'sharma', 'Radha', 'salman']\n"
     ]
    }
   ],
   "source": [
    "emp[1]='sharma'\n",
    "print(emp)"
   ]
  },
  {
   "cell_type": "code",
   "execution_count": 4,
   "id": "de421325",
   "metadata": {},
   "outputs": [
    {
     "name": "stdout",
     "output_type": "stream",
     "text": [
      "[10000, 20000, 30000, 50000]\n"
     ]
    }
   ],
   "source": [
    "emp_salary = [10000,20000,30000,50000]\n",
    "print(emp_salary)"
   ]
  },
  {
   "cell_type": "code",
   "execution_count": 5,
   "id": "bc624a95",
   "metadata": {},
   "outputs": [
    {
     "name": "stdout",
     "output_type": "stream",
     "text": [
      "[10000, 20000, 30000, 45000]\n"
     ]
    }
   ],
   "source": [
    "emp_salary[3]=45000\n",
    "print(emp_salary)"
   ]
  },
  {
   "cell_type": "code",
   "execution_count": 1,
   "id": "62f8d022",
   "metadata": {},
   "outputs": [
    {
     "name": "stdout",
     "output_type": "stream",
     "text": [
      "[10, 12, 13, 14]\n"
     ]
    }
   ],
   "source": [
    "l = [10,12,13,14]\n",
    "print(l)\n"
   ]
  },
  {
   "cell_type": "code",
   "execution_count": 2,
   "id": "65c0d29c",
   "metadata": {},
   "outputs": [
    {
     "data": {
      "text/plain": [
       "[12, 13, 14]"
      ]
     },
     "execution_count": 2,
     "metadata": {},
     "output_type": "execute_result"
    }
   ],
   "source": [
    "#Slicing taking position Grab data accordingly\n",
    "l[1:]"
   ]
  },
  {
   "cell_type": "code",
   "execution_count": 3,
   "id": "1e2ac5cb",
   "metadata": {},
   "outputs": [
    {
     "data": {
      "text/plain": [
       "[10, 12, 13]"
      ]
     },
     "execution_count": 3,
     "metadata": {},
     "output_type": "execute_result"
    }
   ],
   "source": [
    "l[:3]"
   ]
  },
  {
   "cell_type": "code",
   "execution_count": 4,
   "id": "4629dbed",
   "metadata": {},
   "outputs": [
    {
     "data": {
      "text/plain": [
       "[12, 13]"
      ]
     },
     "execution_count": 4,
     "metadata": {},
     "output_type": "execute_result"
    }
   ],
   "source": [
    "l[1:3]"
   ]
  },
  {
   "cell_type": "code",
   "execution_count": 5,
   "id": "2ae5262d",
   "metadata": {},
   "outputs": [
    {
     "data": {
      "text/plain": [
       "[12, 13]"
      ]
     },
     "execution_count": 5,
     "metadata": {},
     "output_type": "execute_result"
    }
   ],
   "source": [
    "#starting index shows in the output but ending point not display in the output (end point = (n-1))\n",
    "l[1:3]"
   ]
  },
  {
   "cell_type": "code",
   "execution_count": 6,
   "id": "ad2ef11b",
   "metadata": {},
   "outputs": [
    {
     "ename": "TypeError",
     "evalue": "unsupported operand type(s) for +: 'int' and 'list'",
     "output_type": "error",
     "traceback": [
      "\u001b[1;31m---------------------------------------------------------------------------\u001b[0m",
      "\u001b[1;31mTypeError\u001b[0m                                 Traceback (most recent call last)",
      "\u001b[1;32m~\\AppData\\Local\\Temp/ipykernel_7968/37459378.py\u001b[0m in \u001b[0;36m<module>\u001b[1;34m\u001b[0m\n\u001b[0;32m      1\u001b[0m \u001b[1;31m# concatenate the list\u001b[0m\u001b[1;33m\u001b[0m\u001b[1;33m\u001b[0m\u001b[0m\n\u001b[1;32m----> 2\u001b[1;33m \u001b[1;36m1\u001b[0m\u001b[1;33m+\u001b[0m\u001b[1;33m[\u001b[0m\u001b[1;36m12\u001b[0m\u001b[1;33m]\u001b[0m\u001b[1;33m\u001b[0m\u001b[1;33m\u001b[0m\u001b[0m\n\u001b[0m\u001b[0;32m      3\u001b[0m \u001b[0mprint\u001b[0m\u001b[1;33m(\u001b[0m\u001b[0ml\u001b[0m\u001b[1;33m)\u001b[0m\u001b[1;33m\u001b[0m\u001b[1;33m\u001b[0m\u001b[0m\n",
      "\u001b[1;31mTypeError\u001b[0m: unsupported operand type(s) for +: 'int' and 'list'"
     ]
    }
   ],
   "source": [
    "# concatenate the list\n",
    "1+[12]\n",
    "print(l)"
   ]
  },
  {
   "cell_type": "code",
   "execution_count": 7,
   "id": "2db53179",
   "metadata": {},
   "outputs": [
    {
     "name": "stdout",
     "output_type": "stream",
     "text": [
      "[10, 12, 13, 14]\n"
     ]
    }
   ],
   "source": [
    "l+[12]\n",
    "print(l)"
   ]
  },
  {
   "cell_type": "code",
   "execution_count": 8,
   "id": "36b992a5",
   "metadata": {},
   "outputs": [
    {
     "data": {
      "text/plain": [
       "[10, 12, 13, 14, 12]"
      ]
     },
     "execution_count": 8,
     "metadata": {},
     "output_type": "execute_result"
    }
   ],
   "source": [
    "l+[12]"
   ]
  },
  {
   "cell_type": "code",
   "execution_count": 9,
   "id": "02120d67",
   "metadata": {},
   "outputs": [
    {
     "name": "stdout",
     "output_type": "stream",
     "text": [
      "[10, 12, 13, 14]\n"
     ]
    }
   ],
   "source": [
    "print(l)"
   ]
  },
  {
   "cell_type": "code",
   "execution_count": 10,
   "id": "e26b6e3c",
   "metadata": {},
   "outputs": [
    {
     "data": {
      "text/plain": [
       "[10, 12, 13, 14, 12]"
      ]
     },
     "execution_count": 10,
     "metadata": {},
     "output_type": "execute_result"
    }
   ],
   "source": [
    "#tempraroy adding\n",
    "l+[12]"
   ]
  },
  {
   "cell_type": "code",
   "execution_count": 11,
   "id": "4542471b",
   "metadata": {},
   "outputs": [
    {
     "name": "stdout",
     "output_type": "stream",
     "text": [
      "[10, 12, 13, 14, 12]\n"
     ]
    }
   ],
   "source": [
    "#permanent adding\n",
    "l = l+[12]\n",
    "print(l)"
   ]
  },
  {
   "cell_type": "code",
   "execution_count": 12,
   "id": "ed8b524e",
   "metadata": {},
   "outputs": [
    {
     "name": "stdout",
     "output_type": "stream",
     "text": [
      "[10, 12, 13, 14, 12]\n"
     ]
    }
   ],
   "source": [
    "#make list double\n",
    "l*2\n",
    "print(l)"
   ]
  },
  {
   "cell_type": "code",
   "execution_count": 13,
   "id": "6fc75b97",
   "metadata": {},
   "outputs": [
    {
     "data": {
      "text/plain": [
       "[10, 12, 13, 14, 12, 10, 12, 13, 14, 12]"
      ]
     },
     "execution_count": 13,
     "metadata": {},
     "output_type": "execute_result"
    }
   ],
   "source": [
    "l*2"
   ]
  },
  {
   "cell_type": "code",
   "execution_count": 14,
   "id": "d8b2f5e7",
   "metadata": {},
   "outputs": [
    {
     "name": "stdout",
     "output_type": "stream",
     "text": [
      "[10, 12, 13, 14, 12]\n"
     ]
    }
   ],
   "source": [
    "print(l)"
   ]
  },
  {
   "cell_type": "code",
   "execution_count": 15,
   "id": "148334fb",
   "metadata": {},
   "outputs": [
    {
     "name": "stdout",
     "output_type": "stream",
     "text": [
      "[10, 12, 13, 14, 12, 10, 12, 13, 14, 12]\n"
     ]
    }
   ],
   "source": [
    "l = l*2\n",
    "print(l)"
   ]
  },
  {
   "cell_type": "code",
   "execution_count": 16,
   "id": "a6d6b71e",
   "metadata": {},
   "outputs": [
    {
     "name": "stdout",
     "output_type": "stream",
     "text": [
      "==========================================================================================\n",
      "                          Yogesh                    \n",
      "==========================================================================================\n"
     ]
    }
   ],
   "source": [
    "#make desiging\n",
    "print('='*90)\n",
    "print('                          Yogesh                    ')\n",
    "print('='*90)"
   ]
  },
  {
   "cell_type": "code",
   "execution_count": 17,
   "id": "e902e8cd",
   "metadata": {},
   "outputs": [
    {
     "data": {
      "text/plain": [
       "3"
      ]
     },
     "execution_count": 17,
     "metadata": {},
     "output_type": "execute_result"
    }
   ],
   "source": [
    "#count= how many students got marks \n",
    "marks= [35,55,85,45,65,85,74,95,14,85,65]\n",
    "marks.count(85)"
   ]
  },
  {
   "cell_type": "code",
   "execution_count": 18,
   "id": "03489818",
   "metadata": {},
   "outputs": [
    {
     "data": {
      "text/plain": [
       "4"
      ]
     },
     "execution_count": 18,
     "metadata": {},
     "output_type": "execute_result"
    }
   ],
   "source": [
    "#if you find the placing of any marks use index funtion but its display first placing of index\n",
    "marks.index(65)"
   ]
  },
  {
   "cell_type": "code",
   "execution_count": 19,
   "id": "85f5a51b",
   "metadata": {},
   "outputs": [
    {
     "name": "stdout",
     "output_type": "stream",
     "text": [
      "['Ravi', 'Roshan', 'yogesh', 'rakesh', 'shiv']\n"
     ]
    }
   ],
   "source": [
    "emp=['Ravi','Roshan','yogesh','rakesh','shiv']\n",
    "print(emp)"
   ]
  },
  {
   "cell_type": "code",
   "execution_count": 20,
   "id": "4f661cce",
   "metadata": {},
   "outputs": [
    {
     "name": "stdout",
     "output_type": "stream",
     "text": [
      "['Ravi', 'Roshan', 'yogesh', 'rakesh', 'shiv', 'shyam']\n"
     ]
    }
   ],
   "source": [
    "emp.append('shyam')\n",
    "print(emp)"
   ]
  },
  {
   "cell_type": "code",
   "execution_count": 21,
   "id": "d4dea129",
   "metadata": {},
   "outputs": [
    {
     "ename": "AttributeError",
     "evalue": "'list' object has no attribute 'exten'",
     "output_type": "error",
     "traceback": [
      "\u001b[1;31m---------------------------------------------------------------------------\u001b[0m",
      "\u001b[1;31mAttributeError\u001b[0m                            Traceback (most recent call last)",
      "\u001b[1;32m~\\AppData\\Local\\Temp/ipykernel_7968/3211954229.py\u001b[0m in \u001b[0;36m<module>\u001b[1;34m\u001b[0m\n\u001b[0;32m      1\u001b[0m \u001b[1;31m#append adding data in the last of the list if we want to add multiple data in the use extend\u001b[0m\u001b[1;33m\u001b[0m\u001b[1;33m\u001b[0m\u001b[0m\n\u001b[1;32m----> 2\u001b[1;33m \u001b[0memp\u001b[0m\u001b[1;33m.\u001b[0m\u001b[0mexten\u001b[0m\u001b[1;33m(\u001b[0m\u001b[1;33m[\u001b[0m\u001b[1;34m'Anu'\u001b[0m\u001b[1;33m,\u001b[0m\u001b[1;34m'Sapna'\u001b[0m\u001b[1;33m,\u001b[0m\u001b[1;34m'Tara'\u001b[0m\u001b[1;33m]\u001b[0m\u001b[1;33m)\u001b[0m\u001b[1;33m\u001b[0m\u001b[1;33m\u001b[0m\u001b[0m\n\u001b[0m\u001b[0;32m      3\u001b[0m \u001b[0mprint\u001b[0m\u001b[1;33m(\u001b[0m\u001b[0memp\u001b[0m\u001b[1;33m)\u001b[0m\u001b[1;33m\u001b[0m\u001b[1;33m\u001b[0m\u001b[0m\n",
      "\u001b[1;31mAttributeError\u001b[0m: 'list' object has no attribute 'exten'"
     ]
    }
   ],
   "source": [
    "#append adding data in the last of the list if we want to add multiple data in the use extend\n",
    "emp.exten(['Anu','Sapna','Tara'])\n",
    "print(emp)"
   ]
  },
  {
   "cell_type": "code",
   "execution_count": 22,
   "id": "9a11fbc1",
   "metadata": {},
   "outputs": [
    {
     "name": "stdout",
     "output_type": "stream",
     "text": [
      "['Ravi', 'Roshan', 'yogesh', 'rakesh', 'shiv', 'shyam', 'Anu', 'Sapna', 'Tara']\n"
     ]
    }
   ],
   "source": [
    "emp.extend(['Anu','Sapna','Tara'])\n",
    "print(emp)"
   ]
  },
  {
   "cell_type": "code",
   "execution_count": 23,
   "id": "ccc457df",
   "metadata": {},
   "outputs": [
    {
     "data": {
      "text/plain": [
       "'Tara'"
      ]
     },
     "execution_count": 23,
     "metadata": {},
     "output_type": "execute_result"
    }
   ],
   "source": [
    "#pop = delete last element\n",
    "emp.pop()"
   ]
  },
  {
   "cell_type": "code",
   "execution_count": 24,
   "id": "05bd11ef",
   "metadata": {},
   "outputs": [
    {
     "name": "stdout",
     "output_type": "stream",
     "text": [
      "['Ravi', 'Roshan', 'yogesh', 'rakesh', 'shiv', 'shyam', 'Anu', 'Sapna']\n"
     ]
    }
   ],
   "source": [
    "print(emp)"
   ]
  },
  {
   "cell_type": "code",
   "execution_count": 25,
   "id": "8efb0437",
   "metadata": {},
   "outputs": [
    {
     "data": {
      "text/plain": [
       "'Roshan'"
      ]
     },
     "execution_count": 25,
     "metadata": {},
     "output_type": "execute_result"
    }
   ],
   "source": [
    "#delete based on index\n",
    "pop_index = emp.pop(1)\n",
    "pop_index"
   ]
  },
  {
   "cell_type": "code",
   "execution_count": 26,
   "id": "f4733077",
   "metadata": {},
   "outputs": [
    {
     "name": "stdout",
     "output_type": "stream",
     "text": [
      "['Ravi', 'yogesh', 'rakesh', 'shiv', 'shyam', 'Anu', 'Sapna']\n"
     ]
    }
   ],
   "source": [
    "print(emp)"
   ]
  },
  {
   "cell_type": "code",
   "execution_count": 27,
   "id": "000adf2b",
   "metadata": {},
   "outputs": [],
   "source": [
    "#remove= duplicate value removefrom the list but remove data which comes first\n",
    "Marks = [12,14,15,16,17,15,12,85,45,54]\n",
    "Marks.remove(12)"
   ]
  },
  {
   "cell_type": "code",
   "execution_count": 28,
   "id": "9ef51408",
   "metadata": {},
   "outputs": [
    {
     "name": "stdout",
     "output_type": "stream",
     "text": [
      "[14, 15, 16, 17, 15, 12, 85, 45, 54]\n"
     ]
    }
   ],
   "source": [
    "print(Marks)"
   ]
  },
  {
   "cell_type": "code",
   "execution_count": 29,
   "id": "6adbaf81",
   "metadata": {},
   "outputs": [
    {
     "name": "stdout",
     "output_type": "stream",
     "text": [
      "[54, 45, 85, 12, 15, 17, 16, 15, 14]\n"
     ]
    }
   ],
   "source": [
    "#Reverse function is use for reverse the list\n",
    "Marks.reverse()\n",
    "print(Marks)"
   ]
  },
  {
   "cell_type": "code",
   "execution_count": 30,
   "id": "57ce7519",
   "metadata": {},
   "outputs": [
    {
     "name": "stdout",
     "output_type": "stream",
     "text": [
      "[10000, 12000, 15000, 45000, 65000]\n"
     ]
    }
   ],
   "source": [
    "emp_salary=[15000,12000,10000,45000,65000]\n",
    "#sort function use for sorting the data in ascending order\n",
    "emp_salary.sort()\n",
    "print(emp_salary)"
   ]
  },
  {
   "cell_type": "code",
   "execution_count": 31,
   "id": "5e0e99a5",
   "metadata": {},
   "outputs": [
    {
     "name": "stdout",
     "output_type": "stream",
     "text": [
      "[5000, 14000, 15000, 45000, 52000]\n",
      "[52000, 45000, 15000, 14000, 5000]\n"
     ]
    }
   ],
   "source": [
    "#if you want to dataa in decending order then we have to use two function (1.sort 2.reverse)\n",
    "sal=[15000,14000,52000,5000,45000]\n",
    "sal.sort()\n",
    "#sorting the data\n",
    "print(sal)\n",
    "#decendig order\n",
    "sal.reverse()\n",
    "print(sal)"
   ]
  },
  {
   "cell_type": "code",
   "execution_count": null,
   "id": "cd737744",
   "metadata": {},
   "outputs": [],
   "source": []
  }
 ],
 "metadata": {
  "kernelspec": {
   "display_name": "Python 3 (ipykernel)",
   "language": "python",
   "name": "python3"
  },
  "language_info": {
   "codemirror_mode": {
    "name": "ipython",
    "version": 3
   },
   "file_extension": ".py",
   "mimetype": "text/x-python",
   "name": "python",
   "nbconvert_exporter": "python",
   "pygments_lexer": "ipython3",
   "version": "3.9.7"
  }
 },
 "nbformat": 4,
 "nbformat_minor": 5
}
