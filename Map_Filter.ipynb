{
 "cells": [
  {
   "cell_type": "code",
   "execution_count": 1,
   "id": "546496e1",
   "metadata": {},
   "outputs": [],
   "source": [
    "#map(function,data(sequence of data))\n",
    "def grace_marks(marks):\n",
    "    if marks ==30:\n",
    "        return (marks+5)\n",
    "    elif marks==31:\n",
    "        return (marks+4)\n",
    "    elif marks ==32:\n",
    "        return (marks+3)\n",
    "    elif marks==33:\n",
    "        return (marks+2)\n",
    "    elif marks==34:\n",
    "        return(marks+1)\n",
    "    else:\n",
    "        return marks"
   ]
  },
  {
   "cell_type": "code",
   "execution_count": 4,
   "id": "5e5dc431",
   "metadata": {},
   "outputs": [],
   "source": [
    "scroe=[45,30,61,31,32,34,31,37,32,35,36,30]"
   ]
  },
  {
   "cell_type": "code",
   "execution_count": 5,
   "id": "74bc8bc9",
   "metadata": {},
   "outputs": [
    {
     "name": "stdout",
     "output_type": "stream",
     "text": [
      "[45, 35, 61, 35, 35, 35, 35, 37, 35, 35, 36, 35]\n"
     ]
    }
   ],
   "source": [
    "total = list(map(grace_marks,scroe))\n",
    "print(total)"
   ]
  },
  {
   "cell_type": "code",
   "execution_count": 6,
   "id": "6802e493",
   "metadata": {},
   "outputs": [
    {
     "data": {
      "text/plain": [
       "8"
      ]
     },
     "execution_count": 6,
     "metadata": {},
     "output_type": "execute_result"
    }
   ],
   "source": [
    "total.count(35)"
   ]
  },
  {
   "cell_type": "code",
   "execution_count": 7,
   "id": "4a3ec712",
   "metadata": {},
   "outputs": [],
   "source": [
    "#filter : also except argument and data\n",
    "def filter_name(marks):\n",
    "    if marks<35:\n",
    "        return marks"
   ]
  },
  {
   "cell_type": "code",
   "execution_count": 8,
   "id": "5ca8119e",
   "metadata": {},
   "outputs": [],
   "source": [
    "scroe=[45,25,35,45,65,56,56,12,32,30,34,36]"
   ]
  },
  {
   "cell_type": "code",
   "execution_count": 9,
   "id": "4b44f3b0",
   "metadata": {},
   "outputs": [
    {
     "data": {
      "text/plain": [
       "[25, 12, 32, 30, 34]"
      ]
     },
     "execution_count": 9,
     "metadata": {},
     "output_type": "execute_result"
    }
   ],
   "source": [
    "failed = list(filter(filter_name,scroe))\n",
    "failed"
   ]
  },
  {
   "cell_type": "code",
   "execution_count": 10,
   "id": "111603be",
   "metadata": {},
   "outputs": [
    {
     "data": {
      "text/plain": [
       "[True, False, True, False, True]"
      ]
     },
     "execution_count": 10,
     "metadata": {},
     "output_type": "execute_result"
    }
   ],
   "source": [
    "list(map(lambda var:var%2==0,range(5)))"
   ]
  },
  {
   "cell_type": "code",
   "execution_count": 11,
   "id": "0ada86c6",
   "metadata": {},
   "outputs": [
    {
     "data": {
      "text/plain": [
       "[0, 2, 4]"
      ]
     },
     "execution_count": 11,
     "metadata": {},
     "output_type": "execute_result"
    }
   ],
   "source": [
    "list(filter(lambda var:var%2==0,range(5)))"
   ]
  },
  {
   "cell_type": "code",
   "execution_count": null,
   "id": "5b740a8a",
   "metadata": {},
   "outputs": [],
   "source": []
  }
 ],
 "metadata": {
  "kernelspec": {
   "display_name": "Python 3 (ipykernel)",
   "language": "python",
   "name": "python3"
  },
  "language_info": {
   "codemirror_mode": {
    "name": "ipython",
    "version": 3
   },
   "file_extension": ".py",
   "mimetype": "text/x-python",
   "name": "python",
   "nbconvert_exporter": "python",
   "pygments_lexer": "ipython3",
   "version": "3.9.7"
  }
 },
 "nbformat": 4,
 "nbformat_minor": 5
}
