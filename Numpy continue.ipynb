{
 "cells": [
  {
   "cell_type": "code",
   "execution_count": 1,
   "id": "112b11c3",
   "metadata": {},
   "outputs": [
    {
     "data": {
      "text/plain": [
       "array([76, 60,  2,  5, 62, 55, 16, 48, 26, 22, 29, 75, 65, 11,  6, 96, 80,\n",
       "       93, 31, 88, 96, 74, 47, 29, 19,  3,  7, 80, 78, 27])"
      ]
     },
     "execution_count": 1,
     "metadata": {},
     "output_type": "execute_result"
    }
   ],
   "source": [
    "import numpy as np\n",
    "from numpy.random import randint as ri\n",
    "a = ri(1,99,30)\n",
    "a"
   ]
  },
  {
   "cell_type": "code",
   "execution_count": 2,
   "id": "beb5e035",
   "metadata": {},
   "outputs": [
    {
     "data": {
      "text/plain": [
       "array([[[76, 60,  2,  5, 62],\n",
       "        [55, 16, 48, 26, 22],\n",
       "        [29, 75, 65, 11,  6]],\n",
       "\n",
       "       [[96, 80, 93, 31, 88],\n",
       "        [96, 74, 47, 29, 19],\n",
       "        [ 3,  7, 80, 78, 27]]])"
      ]
     },
     "execution_count": 2,
     "metadata": {},
     "output_type": "execute_result"
    }
   ],
   "source": [
    "b= a.reshape(2,3,5)  # 2 is here for 2 matrix \n",
    "b"
   ]
  },
  {
   "cell_type": "code",
   "execution_count": 3,
   "id": "501c280c",
   "metadata": {},
   "outputs": [
    {
     "data": {
      "text/plain": [
       "array([[76, 60,  2,  5, 62],\n",
       "       [55, 16, 48, 26, 22],\n",
       "       [29, 75, 65, 11,  6],\n",
       "       [96, 80, 93, 31, 88],\n",
       "       [96, 74, 47, 29, 19],\n",
       "       [ 3,  7, 80, 78, 27]])"
      ]
     },
     "execution_count": 3,
     "metadata": {},
     "output_type": "execute_result"
    }
   ],
   "source": [
    "c= a.reshape(6,5)\n",
    "c"
   ]
  },
  {
   "cell_type": "code",
   "execution_count": 4,
   "id": "7150a53d",
   "metadata": {},
   "outputs": [
    {
     "name": "stdout",
     "output_type": "stream",
     "text": [
      "min of a:  2\n",
      "max of b:  96\n"
     ]
    }
   ],
   "source": [
    "print(\"min of a: \", c.min())\n",
    "print(\"max of b: \", c.max())"
   ]
  },
  {
   "cell_type": "code",
   "execution_count": 5,
   "id": "19c9a562",
   "metadata": {},
   "outputs": [
    {
     "name": "stdout",
     "output_type": "stream",
     "text": [
      "\n",
      " matrix of random integers\n",
      " -------------------------------------------------- \n",
      " [[30 86 82 88 81]\n",
      " [95 84  5 53 78]\n",
      " [52 75 83 40 24]\n",
      " [ 1 14 29 10 77]\n",
      " [70 62 13 10 55]]\n",
      "\n",
      " Here is the sorted matrix along each row\n",
      " -------------------------------------------------- \n",
      " [[30 81 82 86 88]\n",
      " [ 5 53 78 84 95]\n",
      " [24 40 52 75 83]\n",
      " [ 1 10 14 29 77]\n",
      " [10 13 55 62 70]]\n",
      "\n",
      " Here is the sorted matrix along each column\n",
      " -------------------------------------------------- \n",
      " [[ 1 14  5 10 24]\n",
      " [30 62 13 10 55]\n",
      " [52 75 29 40 77]\n",
      " [70 84 82 53 78]\n",
      " [95 86 83 88 81]]\n"
     ]
    }
   ],
   "source": [
    "#sorting\n",
    "m = ri(1,100,25).reshape(5,5)\n",
    "print(\"\\n matrix of random integers\\n\",'-'*50,'\\n',m)\n",
    "print('\\n Here is the sorted matrix along each row\\n','-'*50,'\\n',np.sort(m)) #default axis =1\n",
    "print('\\n Here is the sorted matrix along each column\\n','-'*50,'\\n',np.sort(m,axis=0))"
   ]
  },
  {
   "cell_type": "code",
   "execution_count": 6,
   "id": "835b290f",
   "metadata": {},
   "outputs": [
    {
     "name": "stdout",
     "output_type": "stream",
     "text": [
      "Array:  [13 14 15 16 17 18 19 20 21 22 23 24 25 26 27 28 29]\n"
     ]
    }
   ],
   "source": [
    "#indexing and slicing\n",
    "arr= np.arange(13,30)\n",
    "print(\"Array: \",arr)"
   ]
  },
  {
   "cell_type": "code",
   "execution_count": 7,
   "id": "a3a7355c",
   "metadata": {},
   "outputs": [
    {
     "name": "stdout",
     "output_type": "stream",
     "text": [
      "Element at 7th index is:  20\n"
     ]
    }
   ],
   "source": [
    "print(\"Element at 7th index is: \",arr[7])"
   ]
  },
  {
   "cell_type": "code",
   "execution_count": 8,
   "id": "0f2d9191",
   "metadata": {},
   "outputs": [
    {
     "name": "stdout",
     "output_type": "stream",
     "text": [
      "Element from 3rd to 5th index are:  [16 17 18]\n"
     ]
    }
   ],
   "source": [
    "print('Element from 3rd to 5th index are: ',arr[3:6])"
   ]
  },
  {
   "cell_type": "code",
   "execution_count": 9,
   "id": "171394b1",
   "metadata": {},
   "outputs": [
    {
     "name": "stdout",
     "output_type": "stream",
     "text": [
      "[[97 63 60 83 79]\n",
      " [66 45 74 57 37]\n",
      " [64 29 55 71 54]]\n"
     ]
    }
   ],
   "source": [
    "#subseting\n",
    "mat = np.array(ri(10,100,15)).reshape(3,5)\n",
    "print(mat)"
   ]
  },
  {
   "cell_type": "code",
   "execution_count": 12,
   "id": "a8a4b787",
   "metadata": {},
   "outputs": [],
   "source": [
    "xyz =mat[mat>70]"
   ]
  },
  {
   "cell_type": "code",
   "execution_count": 13,
   "id": "f7604a5c",
   "metadata": {},
   "outputs": [
    {
     "data": {
      "text/plain": [
       "array([97, 83, 79, 74, 71])"
      ]
     },
     "execution_count": 13,
     "metadata": {},
     "output_type": "execute_result"
    }
   ],
   "source": [
    "xyz"
   ]
  },
  {
   "cell_type": "code",
   "execution_count": 14,
   "id": "dbc33faf",
   "metadata": {},
   "outputs": [
    {
     "name": "stdout",
     "output_type": "stream",
     "text": [
      "(array([2], dtype=int64), array([3], dtype=int64))\n"
     ]
    }
   ],
   "source": [
    "print(np.where(mat==71))"
   ]
  },
  {
   "cell_type": "code",
   "execution_count": 15,
   "id": "e8a0606a",
   "metadata": {},
   "outputs": [
    {
     "name": "stdout",
     "output_type": "stream",
     "text": [
      "[[8 5 2]\n",
      " [8 2 7]\n",
      " [9 9 9]]\n",
      "[[2 4 8]\n",
      " [4 2 5]\n",
      " [7 8 6]]\n"
     ]
    }
   ],
   "source": [
    "#univeral functions\n",
    "mat1 = np.array(ri(1,10,9)).reshape(3,3)\n",
    "mat2 = np.array(ri(1,10,9)).reshape(3,3)\n",
    "print(mat1)\n",
    "print(mat2)"
   ]
  },
  {
   "cell_type": "code",
   "execution_count": 16,
   "id": "0dab7ed1",
   "metadata": {},
   "outputs": [
    {
     "name": "stdout",
     "output_type": "stream",
     "text": [
      "[[10  9 10]\n",
      " [12  4 12]\n",
      " [16 17 15]]\n"
     ]
    }
   ],
   "source": [
    "print(mat1+mat2)"
   ]
  },
  {
   "cell_type": "code",
   "execution_count": 17,
   "id": "2bd7e821",
   "metadata": {},
   "outputs": [
    {
     "name": "stdout",
     "output_type": "stream",
     "text": [
      "[[16 20 16]\n",
      " [32  4 35]\n",
      " [63 72 54]]\n"
     ]
    }
   ],
   "source": [
    "print(mat1*mat2)"
   ]
  },
  {
   "cell_type": "code",
   "execution_count": 18,
   "id": "78b3fec0",
   "metadata": {},
   "outputs": [],
   "source": [
    "#Broadcasting\n",
    "#calculation in differect sizes of matrixs"
   ]
  },
  {
   "cell_type": "code",
   "execution_count": null,
   "id": "772b928b",
   "metadata": {},
   "outputs": [],
   "source": []
  }
 ],
 "metadata": {
  "kernelspec": {
   "display_name": "Python 3 (ipykernel)",
   "language": "python",
   "name": "python3"
  },
  "language_info": {
   "codemirror_mode": {
    "name": "ipython",
    "version": 3
   },
   "file_extension": ".py",
   "mimetype": "text/x-python",
   "name": "python",
   "nbconvert_exporter": "python",
   "pygments_lexer": "ipython3",
   "version": "3.9.7"
  }
 },
 "nbformat": 4,
 "nbformat_minor": 5
}
