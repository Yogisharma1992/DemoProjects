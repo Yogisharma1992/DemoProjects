{
 "cells": [
  {
   "cell_type": "code",
   "execution_count": 1,
   "id": "a93227b6",
   "metadata": {},
   "outputs": [],
   "source": [
    "#enumerate() give output data with index"
   ]
  },
  {
   "cell_type": "code",
   "execution_count": 2,
   "id": "f70b2cc7",
   "metadata": {},
   "outputs": [
    {
     "name": "stdout",
     "output_type": "stream",
     "text": [
      "(0, 'ravi')\n",
      "(1, 'sharma')\n",
      "(2, 'yogesh')\n",
      "(3, 'tara')\n",
      "(4, 'shyam')\n"
     ]
    }
   ],
   "source": [
    "student=['ravi','sharma','yogesh','tara','shyam']\n",
    "for i in enumerate(student):\n",
    "    print(i)"
   ]
  },
  {
   "cell_type": "code",
   "execution_count": 3,
   "id": "4d89408c",
   "metadata": {},
   "outputs": [
    {
     "name": "stdout",
     "output_type": "stream",
     "text": [
      "15 ravi\n",
      "16 sharma\n",
      "17 yogesh\n",
      "18 tara\n",
      "19 shyam\n"
     ]
    }
   ],
   "source": [
    "#start index with any number\n",
    "for i,name in enumerate(student,15):\n",
    "    print(i,name)"
   ]
  },
  {
   "cell_type": "code",
   "execution_count": 4,
   "id": "f27eee98",
   "metadata": {},
   "outputs": [],
   "source": [
    "#Zip\n",
    "student_name=['ravi','rakesh','raja','shankar','yogesh']\n",
    "student_marks=[10,12,25,45,65]"
   ]
  },
  {
   "cell_type": "code",
   "execution_count": 5,
   "id": "5342793f",
   "metadata": {},
   "outputs": [],
   "source": [
    "student_detail = list(zip(student_name,student_marks))"
   ]
  },
  {
   "cell_type": "code",
   "execution_count": 6,
   "id": "154b638a",
   "metadata": {},
   "outputs": [
    {
     "data": {
      "text/plain": [
       "[('ravi', 10), ('rakesh', 12), ('raja', 25), ('shankar', 45), ('yogesh', 65)]"
      ]
     },
     "execution_count": 6,
     "metadata": {},
     "output_type": "execute_result"
    }
   ],
   "source": [
    "student_detail"
   ]
  },
  {
   "cell_type": "code",
   "execution_count": 7,
   "id": "28cc5746",
   "metadata": {},
   "outputs": [],
   "source": [
    "#unzip\n",
    "name,marks_num = zip(*student_detail)"
   ]
  },
  {
   "cell_type": "code",
   "execution_count": 8,
   "id": "7071a45c",
   "metadata": {},
   "outputs": [
    {
     "data": {
      "text/plain": [
       "('ravi', 'rakesh', 'raja', 'shankar', 'yogesh')"
      ]
     },
     "execution_count": 8,
     "metadata": {},
     "output_type": "execute_result"
    }
   ],
   "source": [
    "name"
   ]
  },
  {
   "cell_type": "code",
   "execution_count": 9,
   "id": "6ba04459",
   "metadata": {},
   "outputs": [
    {
     "data": {
      "text/plain": [
       "(10, 12, 25, 45, 65)"
      ]
     },
     "execution_count": 9,
     "metadata": {},
     "output_type": "execute_result"
    }
   ],
   "source": [
    "marks_num"
   ]
  },
  {
   "cell_type": "code",
   "execution_count": 11,
   "id": "dabf1729",
   "metadata": {},
   "outputs": [
    {
     "name": "stdout",
     "output_type": "stream",
     "text": [
      "1 ravi 10\n",
      "2 rakesh 12\n",
      "3 raja 25\n",
      "4 shankar 45\n",
      "5 yogesh 65\n"
     ]
    }
   ],
   "source": [
    "#enumerate and zip simultenously\n",
    "student_name=['ravi','rakesh','raja','shankar','yogesh']\n",
    "student_marks=[10,12,25,45,65]\n",
    "for i,(name,marks) in enumerate(zip(student_name,student_marks),1):\n",
    "    print(i,name,marks)"
   ]
  },
  {
   "cell_type": "code",
   "execution_count": null,
   "id": "ce48796e",
   "metadata": {},
   "outputs": [],
   "source": []
  }
 ],
 "metadata": {
  "kernelspec": {
   "display_name": "Python 3 (ipykernel)",
   "language": "python",
   "name": "python3"
  },
  "language_info": {
   "codemirror_mode": {
    "name": "ipython",
    "version": 3
   },
   "file_extension": ".py",
   "mimetype": "text/x-python",
   "name": "python",
   "nbconvert_exporter": "python",
   "pygments_lexer": "ipython3",
   "version": "3.9.7"
  }
 },
 "nbformat": 4,
 "nbformat_minor": 5
}
