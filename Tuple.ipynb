{
 "cells": [
  {
   "cell_type": "code",
   "execution_count": 1,
   "id": "ce78f864",
   "metadata": {},
   "outputs": [],
   "source": [
    "#Tuple\n",
    "# 1. insidei the ()\n",
    "# 2. immutable = no editing no updating"
   ]
  },
  {
   "cell_type": "code",
   "execution_count": 2,
   "id": "947517dd",
   "metadata": {},
   "outputs": [
    {
     "name": "stdout",
     "output_type": "stream",
     "text": [
      "('Gurgaon', 'Mumbai', 'Delhi', 'Chandigarh', 'Pune')\n"
     ]
    }
   ],
   "source": [
    "work_location=('Gurgaon','Mumbai','Delhi','Chandigarh','Pune')\n",
    "print(work_location)"
   ]
  },
  {
   "cell_type": "code",
   "execution_count": 3,
   "id": "10d0da1b",
   "metadata": {},
   "outputs": [
    {
     "name": "stdout",
     "output_type": "stream",
     "text": [
      "<class 'tuple'>\n"
     ]
    }
   ],
   "source": [
    "print(type(work_location))"
   ]
  },
  {
   "cell_type": "code",
   "execution_count": 4,
   "id": "d6f89cb4",
   "metadata": {},
   "outputs": [
    {
     "ename": "AttributeError",
     "evalue": "'tuple' object has no attribute 'append'",
     "output_type": "error",
     "traceback": [
      "\u001b[1;31m---------------------------------------------------------------------------\u001b[0m",
      "\u001b[1;31mAttributeError\u001b[0m                            Traceback (most recent call last)",
      "\u001b[1;32m~\\AppData\\Local\\Temp/ipykernel_9096/10371101.py\u001b[0m in \u001b[0;36m<module>\u001b[1;34m\u001b[0m\n\u001b[0;32m      1\u001b[0m \u001b[1;31m#append we r using but display an error\u001b[0m\u001b[1;33m\u001b[0m\u001b[1;33m\u001b[0m\u001b[0m\n\u001b[1;32m----> 2\u001b[1;33m \u001b[0mwork_location\u001b[0m\u001b[1;33m.\u001b[0m\u001b[0mappend\u001b[0m\u001b[1;33m(\u001b[0m\u001b[1;34m'Hyderabad'\u001b[0m\u001b[1;33m)\u001b[0m\u001b[1;33m\u001b[0m\u001b[1;33m\u001b[0m\u001b[0m\n\u001b[0m",
      "\u001b[1;31mAttributeError\u001b[0m: 'tuple' object has no attribute 'append'"
     ]
    }
   ],
   "source": [
    "#append we r using but display an error\n",
    "work_location.append('Hyderabad')"
   ]
  },
  {
   "cell_type": "code",
   "execution_count": 5,
   "id": "582434b4",
   "metadata": {},
   "outputs": [
    {
     "name": "stdout",
     "output_type": "stream",
     "text": [
      "<class 'list'>\n"
     ]
    }
   ],
   "source": [
    "work_location = list(work_location)\n",
    "print(type(work_location))"
   ]
  },
  {
   "cell_type": "code",
   "execution_count": 6,
   "id": "e84c4c98",
   "metadata": {},
   "outputs": [
    {
     "name": "stdout",
     "output_type": "stream",
     "text": [
      "['Gurgaon', 'Mumbai', 'Delhi', 'Chandigarh', 'Pune', 'Bangalore']\n"
     ]
    }
   ],
   "source": [
    "work_location.append('Bangalore')\n",
    "#list adding the data\n",
    "print(work_location)"
   ]
  },
  {
   "cell_type": "code",
   "execution_count": 7,
   "id": "b0de810f",
   "metadata": {},
   "outputs": [
    {
     "name": "stdout",
     "output_type": "stream",
     "text": [
      "('Gurgaon', 'Mumbai', 'Delhi', 'Chandigarh', 'Pune', 'Bangalore')\n",
      "<class 'tuple'>\n"
     ]
    }
   ],
   "source": [
    "#change list into tuple\n",
    "work_location = tuple(work_location)\n",
    "print(work_location)\n",
    "print(type(work_location))"
   ]
  },
  {
   "cell_type": "code",
   "execution_count": 8,
   "id": "0d9dcda4",
   "metadata": {},
   "outputs": [
    {
     "data": {
      "text/plain": [
       "6"
      ]
     },
     "execution_count": 8,
     "metadata": {},
     "output_type": "execute_result"
    }
   ],
   "source": [
    "#how many (count) we want to use len function\n",
    "len(work_location)"
   ]
  },
  {
   "cell_type": "code",
   "execution_count": 9,
   "id": "4544a39b",
   "metadata": {},
   "outputs": [
    {
     "ename": "SyntaxError",
     "evalue": "invalid syntax (Temp/ipykernel_9096/3916746071.py, line 1)",
     "output_type": "error",
     "traceback": [
      "\u001b[1;36m  File \u001b[1;32m\"C:\\Users\\Lenovo\\AppData\\Local\\Temp/ipykernel_9096/3916746071.py\"\u001b[1;36m, line \u001b[1;32m1\u001b[0m\n\u001b[1;33m    work_location(1:)\u001b[0m\n\u001b[1;37m                   ^\u001b[0m\n\u001b[1;31mSyntaxError\u001b[0m\u001b[1;31m:\u001b[0m invalid syntax\n"
     ]
    }
   ],
   "source": [
    "work_location(1:)"
   ]
  },
  {
   "cell_type": "code",
   "execution_count": 10,
   "id": "1488a536",
   "metadata": {},
   "outputs": [
    {
     "data": {
      "text/plain": [
       "'Mumbai'"
      ]
     },
     "execution_count": 10,
     "metadata": {},
     "output_type": "execute_result"
    }
   ],
   "source": [
    "work_location[1]"
   ]
  },
  {
   "cell_type": "code",
   "execution_count": 11,
   "id": "4dfcff53",
   "metadata": {},
   "outputs": [
    {
     "data": {
      "text/plain": [
       "('Mumbai', 'Delhi')"
      ]
     },
     "execution_count": 11,
     "metadata": {},
     "output_type": "execute_result"
    }
   ],
   "source": [
    "work_location[1:3]"
   ]
  },
  {
   "cell_type": "code",
   "execution_count": 12,
   "id": "6385afcc",
   "metadata": {},
   "outputs": [
    {
     "data": {
      "text/plain": [
       "1"
      ]
     },
     "execution_count": 12,
     "metadata": {},
     "output_type": "execute_result"
    }
   ],
   "source": [
    "work_location.index('Mumbai')"
   ]
  },
  {
   "cell_type": "code",
   "execution_count": 14,
   "id": "846f86a6",
   "metadata": {},
   "outputs": [
    {
     "data": {
      "text/plain": [
       "1"
      ]
     },
     "execution_count": 14,
     "metadata": {},
     "output_type": "execute_result"
    }
   ],
   "source": [
    "work_location.count('Chandigarh')"
   ]
  },
  {
   "cell_type": "code",
   "execution_count": null,
   "id": "0816a895",
   "metadata": {},
   "outputs": [],
   "source": []
  }
 ],
 "metadata": {
  "kernelspec": {
   "display_name": "Python 3 (ipykernel)",
   "language": "python",
   "name": "python3"
  },
  "language_info": {
   "codemirror_mode": {
    "name": "ipython",
    "version": 3
   },
   "file_extension": ".py",
   "mimetype": "text/x-python",
   "name": "python",
   "nbconvert_exporter": "python",
   "pygments_lexer": "ipython3",
   "version": "3.9.7"
  }
 },
 "nbformat": 4,
 "nbformat_minor": 5
}
