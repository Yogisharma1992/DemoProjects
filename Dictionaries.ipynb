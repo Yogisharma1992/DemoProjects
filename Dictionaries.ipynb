{
 "cells": [
  {
   "cell_type": "code",
   "execution_count": 1,
   "id": "254354c5",
   "metadata": {},
   "outputs": [],
   "source": [
    "#Dictionary = we use {} \"curely brackets\"\n",
    "#using this same kind of a table"
   ]
  },
  {
   "cell_type": "code",
   "execution_count": 2,
   "id": "061d9727",
   "metadata": {},
   "outputs": [],
   "source": [
    "my_dic = {'key1':'value1','key2':'value2'}"
   ]
  },
  {
   "cell_type": "code",
   "execution_count": 3,
   "id": "a7d9a66d",
   "metadata": {},
   "outputs": [
    {
     "data": {
      "text/plain": [
       "'value2'"
      ]
     },
     "execution_count": 3,
     "metadata": {},
     "output_type": "execute_result"
    }
   ],
   "source": [
    "#call value by their key\n",
    "my_dic['key2']"
   ]
  },
  {
   "cell_type": "code",
   "execution_count": 4,
   "id": "a95c579f",
   "metadata": {},
   "outputs": [],
   "source": [
    "my_dic={'Roll_number':123,'marks':[12,23,33],'subject':['computer','science','math']}"
   ]
  },
  {
   "cell_type": "code",
   "execution_count": 5,
   "id": "8fda7303",
   "metadata": {},
   "outputs": [
    {
     "ename": "NameError",
     "evalue": "name 'subject' is not defined",
     "output_type": "error",
     "traceback": [
      "\u001b[1;31m---------------------------------------------------------------------------\u001b[0m",
      "\u001b[1;31mNameError\u001b[0m                                 Traceback (most recent call last)",
      "\u001b[1;32m~\\AppData\\Local\\Temp/ipykernel_8324/4180583394.py\u001b[0m in \u001b[0;36m<module>\u001b[1;34m\u001b[0m\n\u001b[1;32m----> 1\u001b[1;33m \u001b[0mmy_dic\u001b[0m\u001b[1;33m[\u001b[0m\u001b[0msubject\u001b[0m\u001b[1;33m]\u001b[0m\u001b[1;33m\u001b[0m\u001b[1;33m\u001b[0m\u001b[0m\n\u001b[0m",
      "\u001b[1;31mNameError\u001b[0m: name 'subject' is not defined"
     ]
    }
   ],
   "source": [
    "my_dic[subject]"
   ]
  },
  {
   "cell_type": "code",
   "execution_count": 6,
   "id": "85d22e75",
   "metadata": {},
   "outputs": [
    {
     "data": {
      "text/plain": [
       "['computer', 'science', 'math']"
      ]
     },
     "execution_count": 6,
     "metadata": {},
     "output_type": "execute_result"
    }
   ],
   "source": [
    "my_dic['subject']"
   ]
  },
  {
   "cell_type": "code",
   "execution_count": 7,
   "id": "c60a7732",
   "metadata": {},
   "outputs": [
    {
     "data": {
      "text/plain": [
       "[12, 23, 33]"
      ]
     },
     "execution_count": 7,
     "metadata": {},
     "output_type": "execute_result"
    }
   ],
   "source": [
    "my_dic['marks']"
   ]
  },
  {
   "cell_type": "code",
   "execution_count": 8,
   "id": "aa5e7623",
   "metadata": {},
   "outputs": [
    {
     "data": {
      "text/plain": [
       "123"
      ]
     },
     "execution_count": 8,
     "metadata": {},
     "output_type": "execute_result"
    }
   ],
   "source": [
    "my_dic['Roll_number']"
   ]
  },
  {
   "cell_type": "code",
   "execution_count": 9,
   "id": "b0ed991a",
   "metadata": {},
   "outputs": [
    {
     "data": {
      "text/plain": [
       "'science'"
      ]
     },
     "execution_count": 9,
     "metadata": {},
     "output_type": "execute_result"
    }
   ],
   "source": [
    "my_dic['subject'][1]"
   ]
  },
  {
   "cell_type": "code",
   "execution_count": 11,
   "id": "7ff9ad4a",
   "metadata": {},
   "outputs": [
    {
     "data": {
      "text/plain": [
       "33"
      ]
     },
     "execution_count": 11,
     "metadata": {},
     "output_type": "execute_result"
    }
   ],
   "source": [
    "my_dic['marks'][2]"
   ]
  },
  {
   "cell_type": "code",
   "execution_count": 12,
   "id": "0d36efa2",
   "metadata": {},
   "outputs": [
    {
     "data": {
      "text/plain": [
       "'COMPUTER'"
      ]
     },
     "execution_count": 12,
     "metadata": {},
     "output_type": "execute_result"
    }
   ],
   "source": [
    "#can then even call methods on that value\n",
    "my_dic['subject'][0].upper()"
   ]
  },
  {
   "cell_type": "code",
   "execution_count": 13,
   "id": "2260e560",
   "metadata": {},
   "outputs": [
    {
     "data": {
      "text/plain": [
       "'computer'"
      ]
     },
     "execution_count": 13,
     "metadata": {},
     "output_type": "execute_result"
    }
   ],
   "source": [
    "my_dic['subject'][0].lower()"
   ]
  },
  {
   "cell_type": "code",
   "execution_count": 14,
   "id": "bd7c319e",
   "metadata": {},
   "outputs": [],
   "source": [
    "#adding  marks in particular data\n",
    "my_dic['marks'][0]= my_dic['marks'][0]+30"
   ]
  },
  {
   "cell_type": "code",
   "execution_count": 15,
   "id": "c0dddd9c",
   "metadata": {},
   "outputs": [
    {
     "data": {
      "text/plain": [
       "42"
      ]
     },
     "execution_count": 15,
     "metadata": {},
     "output_type": "execute_result"
    }
   ],
   "source": [
    "my_dic['marks'][0]"
   ]
  },
  {
   "cell_type": "code",
   "execution_count": 16,
   "id": "f384d288",
   "metadata": {},
   "outputs": [
    {
     "data": {
      "text/plain": [
       "{'Roll_number': 123,\n",
       " 'marks': [42, 23, 33],\n",
       " 'subject': ['computer', 'science', 'math']}"
      ]
     },
     "execution_count": 16,
     "metadata": {},
     "output_type": "execute_result"
    }
   ],
   "source": [
    "my_dic"
   ]
  },
  {
   "cell_type": "code",
   "execution_count": 17,
   "id": "16b5128e",
   "metadata": {},
   "outputs": [],
   "source": [
    "# python has a built-in method of doing a self subtraction or addition (or multipication and or division).\n",
    "# we could use  += or -= for the above statement"
   ]
  },
  {
   "cell_type": "code",
   "execution_count": 18,
   "id": "7bc1b5d4",
   "metadata": {},
   "outputs": [],
   "source": [
    "#another way of adding\n",
    "my_dic['marks'][2] += 30"
   ]
  },
  {
   "cell_type": "code",
   "execution_count": 19,
   "id": "99a639c4",
   "metadata": {},
   "outputs": [
    {
     "data": {
      "text/plain": [
       "{'Roll_number': 123,\n",
       " 'marks': [42, 23, 63],\n",
       " 'subject': ['computer', 'science', 'math']}"
      ]
     },
     "execution_count": 19,
     "metadata": {},
     "output_type": "execute_result"
    }
   ],
   "source": [
    "my_dic"
   ]
  },
  {
   "cell_type": "code",
   "execution_count": 20,
   "id": "bc15d928",
   "metadata": {},
   "outputs": [],
   "source": [
    "my_dic['marks'][2] -= 30"
   ]
  },
  {
   "cell_type": "code",
   "execution_count": 21,
   "id": "799d23f2",
   "metadata": {},
   "outputs": [
    {
     "data": {
      "text/plain": [
       "{'Roll_number': 123,\n",
       " 'marks': [42, 23, 33],\n",
       " 'subject': ['computer', 'science', 'math']}"
      ]
     },
     "execution_count": 21,
     "metadata": {},
     "output_type": "execute_result"
    }
   ],
   "source": [
    "my_dic"
   ]
  },
  {
   "cell_type": "code",
   "execution_count": 22,
   "id": "4efa4f90",
   "metadata": {},
   "outputs": [],
   "source": [
    "my_dic['marks'][1] *= 2"
   ]
  },
  {
   "cell_type": "code",
   "execution_count": 23,
   "id": "6acb8470",
   "metadata": {},
   "outputs": [
    {
     "data": {
      "text/plain": [
       "{'Roll_number': 123,\n",
       " 'marks': [42, 46, 33],\n",
       " 'subject': ['computer', 'science', 'math']}"
      ]
     },
     "execution_count": 23,
     "metadata": {},
     "output_type": "execute_result"
    }
   ],
   "source": [
    "my_dic"
   ]
  },
  {
   "cell_type": "code",
   "execution_count": 24,
   "id": "6bf68b3f",
   "metadata": {},
   "outputs": [],
   "source": [
    "my_dic['marks'][0] /= 2"
   ]
  },
  {
   "cell_type": "code",
   "execution_count": 25,
   "id": "b71c1a8e",
   "metadata": {},
   "outputs": [
    {
     "data": {
      "text/plain": [
       "{'Roll_number': 123,\n",
       " 'marks': [21.0, 46, 33],\n",
       " 'subject': ['computer', 'science', 'math']}"
      ]
     },
     "execution_count": 25,
     "metadata": {},
     "output_type": "execute_result"
    }
   ],
   "source": [
    "my_dic"
   ]
  },
  {
   "cell_type": "code",
   "execution_count": 26,
   "id": "d201b85d",
   "metadata": {},
   "outputs": [],
   "source": [
    "#add nw key"
   ]
  },
  {
   "cell_type": "code",
   "execution_count": 27,
   "id": "beabba2c",
   "metadata": {},
   "outputs": [],
   "source": [
    "my_dic['year'] = '3rd'"
   ]
  },
  {
   "cell_type": "code",
   "execution_count": 28,
   "id": "c7de58ff",
   "metadata": {},
   "outputs": [
    {
     "data": {
      "text/plain": [
       "{'Roll_number': 123,\n",
       " 'marks': [21.0, 46, 33],\n",
       " 'subject': ['computer', 'science', 'math'],\n",
       " 'year': '3rd'}"
      ]
     },
     "execution_count": 28,
     "metadata": {},
     "output_type": "execute_result"
    }
   ],
   "source": [
    "my_dic"
   ]
  },
  {
   "cell_type": "code",
   "execution_count": 29,
   "id": "32c4d56e",
   "metadata": {},
   "outputs": [],
   "source": [
    "#update dictionary"
   ]
  },
  {
   "cell_type": "code",
   "execution_count": 30,
   "id": "c6a8dee5",
   "metadata": {},
   "outputs": [],
   "source": [
    "my_dic.update({'Roll_number':100})"
   ]
  },
  {
   "cell_type": "code",
   "execution_count": 31,
   "id": "1d822cba",
   "metadata": {},
   "outputs": [
    {
     "data": {
      "text/plain": [
       "{'Roll_number': 100,\n",
       " 'marks': [21.0, 46, 33],\n",
       " 'subject': ['computer', 'science', 'math'],\n",
       " 'year': '3rd'}"
      ]
     },
     "execution_count": 31,
     "metadata": {},
     "output_type": "execute_result"
    }
   ],
   "source": [
    "my_dic"
   ]
  },
  {
   "cell_type": "code",
   "execution_count": null,
   "id": "8be4afb9",
   "metadata": {},
   "outputs": [],
   "source": []
  }
 ],
 "metadata": {
  "kernelspec": {
   "display_name": "Python 3 (ipykernel)",
   "language": "python",
   "name": "python3"
  },
  "language_info": {
   "codemirror_mode": {
    "name": "ipython",
    "version": 3
   },
   "file_extension": ".py",
   "mimetype": "text/x-python",
   "name": "python",
   "nbconvert_exporter": "python",
   "pygments_lexer": "ipython3",
   "version": "3.9.7"
  }
 },
 "nbformat": 4,
 "nbformat_minor": 5
}
