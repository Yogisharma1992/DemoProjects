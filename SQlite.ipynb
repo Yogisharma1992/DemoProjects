{
 "cells": [
  {
   "cell_type": "code",
   "execution_count": 1,
   "id": "b3c38bbb",
   "metadata": {},
   "outputs": [],
   "source": [
    "#Database and Database connectivity\n",
    "import sqlite3\n",
    "#connecting with the database (if there is no database exists, it will creat one)\n",
    "db =sqlite3.connect('my_first_db.db')"
   ]
  },
  {
   "cell_type": "code",
   "execution_count": 4,
   "id": "e29edd51",
   "metadata": {},
   "outputs": [],
   "source": [
    "db1 = sqlite3.connect('C:/Users/Lenovo/Desktop/Data Trained/DB folder/demo.db')          #defferent path"
   ]
  },
  {
   "cell_type": "code",
   "execution_count": 5,
   "id": "fa7c0457",
   "metadata": {},
   "outputs": [],
   "source": [
    "#declare cursor\n",
    "cursor = db.cursor()"
   ]
  },
  {
   "cell_type": "code",
   "execution_count": 9,
   "id": "c682a717",
   "metadata": {},
   "outputs": [
    {
     "ename": "OperationalError",
     "evalue": "table score1 already exists",
     "output_type": "error",
     "traceback": [
      "\u001b[1;31m---------------------------------------------------------------------------\u001b[0m",
      "\u001b[1;31mOperationalError\u001b[0m                          Traceback (most recent call last)",
      "\u001b[1;32m~\\AppData\\Local\\Temp/ipykernel_10300/1669513742.py\u001b[0m in \u001b[0;36m<module>\u001b[1;34m\u001b[0m\n\u001b[0;32m      1\u001b[0m \u001b[1;31m#create table\u001b[0m\u001b[1;33m\u001b[0m\u001b[1;33m\u001b[0m\u001b[0m\n\u001b[1;32m----> 2\u001b[1;33m \u001b[0mcursor\u001b[0m\u001b[1;33m.\u001b[0m\u001b[0mexecute\u001b[0m\u001b[1;33m(\u001b[0m\u001b[1;34m\"CREATE TABLE score1(gender Text, student_id INT PRIMARY KEY, marks INT)\"\u001b[0m\u001b[1;33m)\u001b[0m\u001b[1;33m\u001b[0m\u001b[1;33m\u001b[0m\u001b[0m\n\u001b[0m",
      "\u001b[1;31mOperationalError\u001b[0m: table score1 already exists"
     ]
    }
   ],
   "source": [
    "#create table\n",
    "cursor.execute(\"CREATE TABLE score1(gender Text, student_id INT PRIMARY KEY, marks INT)\")"
   ]
  },
  {
   "cell_type": "code",
   "execution_count": 2,
   "id": "3a3dc8f7",
   "metadata": {},
   "outputs": [
    {
     "ename": "NameError",
     "evalue": "name 'cursor' is not defined",
     "output_type": "error",
     "traceback": [
      "\u001b[1;31m---------------------------------------------------------------------------\u001b[0m",
      "\u001b[1;31mNameError\u001b[0m                                 Traceback (most recent call last)",
      "\u001b[1;32m~\\AppData\\Local\\Temp/ipykernel_8848/3631018817.py\u001b[0m in \u001b[0;36m<module>\u001b[1;34m\u001b[0m\n\u001b[0;32m      1\u001b[0m \u001b[1;31m#insert record in table\u001b[0m\u001b[1;33m\u001b[0m\u001b[1;33m\u001b[0m\u001b[0m\n\u001b[1;32m----> 2\u001b[1;33m \u001b[0mcursor\u001b[0m\u001b[1;33m.\u001b[0m\u001b[0mexecute\u001b[0m\u001b[1;33m(\u001b[0m\u001b[1;34m\"INSERT INTO score1(gender,student_id,marks) values('Male',003,100)\"\u001b[0m\u001b[1;33m)\u001b[0m\u001b[1;33m\u001b[0m\u001b[1;33m\u001b[0m\u001b[0m\n\u001b[0m\u001b[0;32m      3\u001b[0m \u001b[1;33m\u001b[0m\u001b[0m\n\u001b[0;32m      4\u001b[0m \u001b[1;31m#save the records permanently. (if you dont commit, next time you will not see the records in the  table)\u001b[0m\u001b[1;33m\u001b[0m\u001b[1;33m\u001b[0m\u001b[0m\n\u001b[0;32m      5\u001b[0m \u001b[0mdb\u001b[0m\u001b[1;33m.\u001b[0m\u001b[0mcommit\u001b[0m\u001b[1;33m(\u001b[0m\u001b[1;33m)\u001b[0m\u001b[1;33m\u001b[0m\u001b[1;33m\u001b[0m\u001b[0m\n",
      "\u001b[1;31mNameError\u001b[0m: name 'cursor' is not defined"
     ]
    }
   ],
   "source": [
    "#insert record in table\n",
    "cursor.execute(\"INSERT INTO score1(gender,student_id,marks) values('Male',003,100)\")\n",
    "\n",
    "#save the records permanently. (if you dont commit, next time you will not see the records in the  table)\n",
    "db.commit()\n",
    "\n",
    "#Count of records inseted\n",
    "print(cursor.rowcount,'Record(s) inserted')"
   ]
  },
  {
   "cell_type": "code",
   "execution_count": 3,
   "id": "36f6f1fa",
   "metadata": {},
   "outputs": [
    {
     "ename": "NameError",
     "evalue": "name 'cursor' is not defined",
     "output_type": "error",
     "traceback": [
      "\u001b[1;31m---------------------------------------------------------------------------\u001b[0m",
      "\u001b[1;31mNameError\u001b[0m                                 Traceback (most recent call last)",
      "\u001b[1;32m~\\AppData\\Local\\Temp/ipykernel_8848/2737617927.py\u001b[0m in \u001b[0;36m<module>\u001b[1;34m\u001b[0m\n\u001b[0;32m      1\u001b[0m \u001b[1;31m#insert record in table\u001b[0m\u001b[1;33m\u001b[0m\u001b[1;33m\u001b[0m\u001b[0m\n\u001b[1;32m----> 2\u001b[1;33m \u001b[0mcursor\u001b[0m\u001b[1;33m.\u001b[0m\u001b[0mexecute\u001b[0m\u001b[1;33m(\u001b[0m\u001b[1;34m\"INSERT INTO score1(gender,student_id,marks) values('Male',004,100)\"\u001b[0m\u001b[1;33m)\u001b[0m\u001b[1;33m\u001b[0m\u001b[1;33m\u001b[0m\u001b[0m\n\u001b[0m\u001b[0;32m      3\u001b[0m \u001b[1;33m\u001b[0m\u001b[0m\n\u001b[0;32m      4\u001b[0m \u001b[1;31m#save permanently.\u001b[0m\u001b[1;33m\u001b[0m\u001b[1;33m\u001b[0m\u001b[0m\n\u001b[0;32m      5\u001b[0m \u001b[0mdb\u001b[0m\u001b[1;33m.\u001b[0m\u001b[0mcommit\u001b[0m\u001b[1;33m(\u001b[0m\u001b[1;33m)\u001b[0m\u001b[1;33m\u001b[0m\u001b[1;33m\u001b[0m\u001b[0m\n",
      "\u001b[1;31mNameError\u001b[0m: name 'cursor' is not defined"
     ]
    }
   ],
   "source": [
    "#insert record in table\n",
    "cursor.execute(\"INSERT INTO score1(gender,student_id,marks) values('Male',004,100)\")\n",
    "\n",
    "#save permanently.\n",
    "db.commit()"
   ]
  },
  {
   "cell_type": "code",
   "execution_count": 4,
   "id": "a3f21fed",
   "metadata": {},
   "outputs": [],
   "source": [
    "import sqlite3\n",
    "db = sqlite3.connect('FirstDatabse.db')"
   ]
  },
  {
   "cell_type": "code",
   "execution_count": 5,
   "id": "fa659b4b",
   "metadata": {},
   "outputs": [],
   "source": [
    "cursor = db.cursor()"
   ]
  },
  {
   "cell_type": "code",
   "execution_count": 6,
   "id": "f61dd809",
   "metadata": {},
   "outputs": [
    {
     "data": {
      "text/plain": [
       "<sqlite3.Cursor at 0x17ee27b1500>"
      ]
     },
     "execution_count": 6,
     "metadata": {},
     "output_type": "execute_result"
    }
   ],
   "source": [
    "cursor.execute(\"CREATE TABLE score2(gender Text, student_id INT PRIMARY KEY, marks INT)\")"
   ]
  },
  {
   "cell_type": "code",
   "execution_count": 7,
   "id": "3eb55961",
   "metadata": {},
   "outputs": [
    {
     "name": "stdout",
     "output_type": "stream",
     "text": [
      "1 Record(s) inserted\n"
     ]
    }
   ],
   "source": [
    "#insert record in table\n",
    "cursor.execute(\"INSERT INTO score2(gender,student_id,marks) values('Male',001,100)\")\n",
    "\n",
    "#save the records permanently. (if you dont commit, next time you will not see the records in the  table)\n",
    "db.commit()\n",
    "\n",
    "#Count of records inseted\n",
    "print(cursor.rowcount,'Record(s) inserted')"
   ]
  },
  {
   "cell_type": "code",
   "execution_count": 24,
   "id": "a1ccfd62",
   "metadata": {},
   "outputs": [
    {
     "name": "stdout",
     "output_type": "stream",
     "text": [
      "('Male', 1, 100)\n",
      "('Male', 2, 100)\n",
      "('Male', 3, 100)\n",
      "('Male', 4, 100)\n",
      "('Female', 5, 100)\n",
      "('Female', 6, 100)\n",
      "('Female', 7, 100)\n",
      "('Male', 8, 100)\n",
      "('Female', 9, 200)\n",
      "('Male', 10, 100)\n",
      "('Female', 11, 200)\n",
      "('Male', 12, 100)\n",
      "('Female', 13, 300)\n",
      "('Male', 14, 200)\n",
      "('Female', 15, 520)\n",
      "('Male', 16, 100)\n",
      "('Female', 17, 100)\n",
      "('Male', 18, 200)\n",
      "('Female', 19, 300)\n",
      "('Male', 20, 400)\n",
      "<built-in method count of tuple object at 0x0000017EE26B7C40>\n"
     ]
    }
   ],
   "source": [
    "#how to fetch the tabel data\n",
    "result = cursor.execute(\"SELECT * FROM score2\")\n",
    "for row in result:\n",
    "    print(row)\n",
    "print(row.count)"
   ]
  },
  {
   "cell_type": "code",
   "execution_count": 12,
   "id": "8d4edb06",
   "metadata": {},
   "outputs": [],
   "source": [
    "cursor.execute(\"INSERT INTO score2(gender,student_id,marks) values('Male',004,100)\")\n",
    "\n",
    "#save the records permanently. (if you dont commit, next time you will not see the records in the  table)\n",
    "db.commit()"
   ]
  },
  {
   "cell_type": "code",
   "execution_count": 14,
   "id": "26e242d3",
   "metadata": {},
   "outputs": [],
   "source": [
    "#multiple record insertion\n",
    "cursor.execute(\"INSERT INTO score2(gender,student_id,marks) VALUES('Female',005,100),('Female',006,100),('Female',007,100)\")\n",
    "db.commit()"
   ]
  },
  {
   "cell_type": "code",
   "execution_count": 17,
   "id": "526a26d3",
   "metadata": {},
   "outputs": [
    {
     "name": "stdout",
     "output_type": "stream",
     "text": [
      "13  Records inserted\n"
     ]
    }
   ],
   "source": [
    "#inserting records from file (CSV)\n",
    "with open(\"C:/Users/Lenovo/Desktop/Data Trained/score_file.csv\",\"r\") as file:\n",
    "    no_record =0\n",
    "    for row in file:\n",
    "        cursor.execute(\"INSERT INTO score2 values(?,?,?)\",row.split(\",\"))\n",
    "        db.commit()\n",
    "        no_record +=1\n",
    "#db.close()\n",
    "print(no_record,' Records inserted')"
   ]
  },
  {
   "cell_type": "code",
   "execution_count": 2,
   "id": "558fd83b",
   "metadata": {},
   "outputs": [
    {
     "ename": "NameError",
     "evalue": "name 'cursor' is not defined",
     "output_type": "error",
     "traceback": [
      "\u001b[1;31m---------------------------------------------------------------------------\u001b[0m",
      "\u001b[1;31mNameError\u001b[0m                                 Traceback (most recent call last)",
      "\u001b[1;32m~\\AppData\\Local\\Temp/ipykernel_7092/2070859750.py\u001b[0m in \u001b[0;36m<module>\u001b[1;34m\u001b[0m\n\u001b[0;32m      1\u001b[0m \u001b[1;31m#how to fetch the tabel data\u001b[0m\u001b[1;33m\u001b[0m\u001b[1;33m\u001b[0m\u001b[0m\n\u001b[1;32m----> 2\u001b[1;33m \u001b[0mresult1\u001b[0m \u001b[1;33m=\u001b[0m \u001b[0mcursor\u001b[0m\u001b[1;33m.\u001b[0m\u001b[0mexecute\u001b[0m\u001b[1;33m(\u001b[0m\u001b[1;34m\"SELECT * FROM score2\"\u001b[0m\u001b[1;33m)\u001b[0m\u001b[1;33m\u001b[0m\u001b[1;33m\u001b[0m\u001b[0m\n\u001b[0m\u001b[0;32m      3\u001b[0m \u001b[1;32mfor\u001b[0m \u001b[0mrow\u001b[0m \u001b[1;32min\u001b[0m \u001b[0mresult1\u001b[0m\u001b[1;33m:\u001b[0m\u001b[1;33m\u001b[0m\u001b[1;33m\u001b[0m\u001b[0m\n\u001b[0;32m      4\u001b[0m     \u001b[0mprint\u001b[0m\u001b[1;33m(\u001b[0m\u001b[0mrow\u001b[0m\u001b[1;33m)\u001b[0m\u001b[1;33m\u001b[0m\u001b[1;33m\u001b[0m\u001b[0m\n",
      "\u001b[1;31mNameError\u001b[0m: name 'cursor' is not defined"
     ]
    }
   ],
   "source": [
    "#how to fetch the tabel data\n",
    "result1 = cursor.execute(\"SELECT * FROM score2\")\n",
    "for row in result1:\n",
    "    print(row)"
   ]
  },
  {
   "cell_type": "code",
   "execution_count": 3,
   "id": "50202d1d",
   "metadata": {},
   "outputs": [
    {
     "ename": "NameError",
     "evalue": "name 'db' is not defined",
     "output_type": "error",
     "traceback": [
      "\u001b[1;31m---------------------------------------------------------------------------\u001b[0m",
      "\u001b[1;31mNameError\u001b[0m                                 Traceback (most recent call last)",
      "\u001b[1;32m~\\AppData\\Local\\Temp/ipykernel_7092/249211831.py\u001b[0m in \u001b[0;36m<module>\u001b[1;34m\u001b[0m\n\u001b[1;32m----> 1\u001b[1;33m \u001b[0mcursor\u001b[0m \u001b[1;33m=\u001b[0m \u001b[0mdb\u001b[0m\u001b[1;33m.\u001b[0m\u001b[0mcursor\u001b[0m\u001b[1;33m(\u001b[0m\u001b[1;33m)\u001b[0m\u001b[1;33m\u001b[0m\u001b[1;33m\u001b[0m\u001b[0m\n\u001b[0m",
      "\u001b[1;31mNameError\u001b[0m: name 'db' is not defined"
     ]
    }
   ],
   "source": [
    "cursor = db.cursor()"
   ]
  },
  {
   "cell_type": "code",
   "execution_count": 4,
   "id": "c352fad8",
   "metadata": {},
   "outputs": [],
   "source": [
    "import sqlite3\n",
    "db = sqlite3.connect('FirstDatabse.db')"
   ]
  },
  {
   "cell_type": "code",
   "execution_count": 5,
   "id": "b3c00186",
   "metadata": {},
   "outputs": [],
   "source": [
    "cursor = db.cursor()"
   ]
  },
  {
   "cell_type": "code",
   "execution_count": 6,
   "id": "bde90030",
   "metadata": {},
   "outputs": [
    {
     "name": "stdout",
     "output_type": "stream",
     "text": [
      "('Male', 1, 100)\n",
      "('Male', 2, 100)\n",
      "('Male', 3, 100)\n",
      "('Male', 4, 100)\n",
      "('Female', 5, 100)\n",
      "('Female', 6, 100)\n",
      "('Female', 7, 100)\n",
      "('Male', 8, 100)\n",
      "('Female', 9, 200)\n",
      "('Male', 10, 100)\n",
      "('Female', 11, 200)\n",
      "('Male', 12, 100)\n",
      "('Female', 13, 300)\n",
      "('Male', 14, 200)\n",
      "('Female', 15, 520)\n",
      "('Male', 16, 100)\n",
      "('Female', 17, 100)\n",
      "('Male', 18, 200)\n",
      "('Female', 19, 300)\n",
      "('Male', 20, 400)\n"
     ]
    }
   ],
   "source": [
    "#how to fetch the tabel data\n",
    "result1 = cursor.execute(\"SELECT * FROM score2\")\n",
    "for row in result1:\n",
    "    print(row)"
   ]
  },
  {
   "cell_type": "code",
   "execution_count": 9,
   "id": "31c40752",
   "metadata": {},
   "outputs": [
    {
     "name": "stdout",
     "output_type": "stream",
     "text": [
      "('Male', 4, 100)\n"
     ]
    }
   ],
   "source": [
    "#Where clause: select records based on condition\n",
    "sp1 = \"SELECT * FROM score2 WHERE student_id = 4\"\n",
    "result = cursor.execute(sp1)\n",
    "for row in result:\n",
    "    print(row)"
   ]
  },
  {
   "cell_type": "code",
   "execution_count": 10,
   "id": "7cb0360c",
   "metadata": {},
   "outputs": [
    {
     "data": {
      "text/plain": [
       "<sqlite3.Cursor at 0x1a33d9dfab0>"
      ]
     },
     "execution_count": 10,
     "metadata": {},
     "output_type": "execute_result"
    }
   ],
   "source": [
    "#delete the data\n",
    "sq1 = \"DELETE FROM score2 WHERE student_id=4\"\n",
    "db.commit()\n",
    "cursor.execute(sq1)"
   ]
  },
  {
   "cell_type": "code",
   "execution_count": 11,
   "id": "0f1e7ef1",
   "metadata": {},
   "outputs": [
    {
     "name": "stdout",
     "output_type": "stream",
     "text": [
      "('Male', 1, 100)\n",
      "('Male', 2, 100)\n",
      "('Male', 3, 100)\n",
      "('Female', 5, 100)\n",
      "('Female', 6, 100)\n",
      "('Female', 7, 100)\n",
      "('Male', 8, 100)\n",
      "('Female', 9, 200)\n",
      "('Male', 10, 100)\n",
      "('Female', 11, 200)\n",
      "('Male', 12, 100)\n",
      "('Female', 13, 300)\n",
      "('Male', 14, 200)\n",
      "('Female', 15, 520)\n",
      "('Male', 16, 100)\n",
      "('Female', 17, 100)\n",
      "('Male', 18, 200)\n",
      "('Female', 19, 300)\n",
      "('Male', 20, 400)\n"
     ]
    }
   ],
   "source": [
    "result = cursor.execute(\"SELECT * FROM score2\")\n",
    "for row in result:\n",
    "    print(row)"
   ]
  },
  {
   "cell_type": "code",
   "execution_count": 16,
   "id": "9c4f31f7",
   "metadata": {},
   "outputs": [
    {
     "name": "stdout",
     "output_type": "stream",
     "text": [
      "('Female', 15, 520)\n",
      "('Male', 20, 400)\n",
      "('Female', 13, 300)\n",
      "('Female', 19, 300)\n",
      "('Female', 9, 200)\n",
      "('Female', 11, 200)\n",
      "('Male', 14, 200)\n",
      "('Male', 18, 200)\n",
      "('Male', 1, 100)\n",
      "('Male', 2, 100)\n",
      "('Male', 3, 100)\n",
      "('Female', 5, 100)\n",
      "('Female', 6, 100)\n",
      "('Female', 7, 100)\n",
      "('Male', 10, 100)\n",
      "('Male', 12, 100)\n",
      "('Male', 16, 100)\n",
      "('Female', 17, 100)\n",
      "('Male', 8, 50)\n"
     ]
    }
   ],
   "source": [
    "#data get in descreging order useing order by\n",
    "result2 = cursor.execute(\"SELECT * FROM score2 ORDER BY marks desc\")\n",
    "for row in result2:\n",
    "    print(row)"
   ]
  },
  {
   "cell_type": "code",
   "execution_count": 15,
   "id": "0b0016bf",
   "metadata": {},
   "outputs": [
    {
     "data": {
      "text/plain": [
       "<sqlite3.Cursor at 0x1a33d9dfab0>"
      ]
     },
     "execution_count": 15,
     "metadata": {},
     "output_type": "execute_result"
    }
   ],
   "source": [
    "# update the table\n",
    "# single record update\n",
    "sq2= \"UPDATE SCORE2 SET marks = 50 WHERE student_id = 8\"\n",
    "cursor.execute(sq2)"
   ]
  },
  {
   "cell_type": "code",
   "execution_count": 17,
   "id": "8bacbc84",
   "metadata": {},
   "outputs": [
    {
     "data": {
      "text/plain": [
       "<sqlite3.Cursor at 0x1a33d9dfab0>"
      ]
     },
     "execution_count": 17,
     "metadata": {},
     "output_type": "execute_result"
    }
   ],
   "source": [
    "#multilpe data update\n",
    "sq3 =\"UPDATE score2 SET marks =35 WHERE student_id IN (5,12)\"\n",
    "cursor.execute(sq3)"
   ]
  },
  {
   "cell_type": "code",
   "execution_count": 20,
   "id": "bdab9cf0",
   "metadata": {},
   "outputs": [
    {
     "name": "stdout",
     "output_type": "stream",
     "text": [
      "('Female', 15, 520)\n",
      "('Male', 20, 400)\n",
      "('Female', 13, 300)\n",
      "('Female', 19, 300)\n",
      "('Female', 9, 200)\n",
      "('Female', 11, 200)\n",
      "('Male', 14, 200)\n",
      "('Male', 18, 200)\n",
      "('Male', 1, 100)\n",
      "('Male', 2, 100)\n",
      "('Male', 3, 100)\n",
      "('Female', 6, 100)\n",
      "('Female', 7, 100)\n",
      "('Male', 10, 100)\n",
      "('Male', 16, 100)\n",
      "('Female', 17, 100)\n",
      "('Male', 8, 50)\n",
      "('Female', 5, 35)\n",
      "('Male', 12, 35)\n"
     ]
    }
   ],
   "source": [
    "rs= cursor.execute(\"SELECT * FROM score2 ORDER BY marks desc\")\n",
    "for row in rs:\n",
    "    print(row)"
   ]
  },
  {
   "cell_type": "code",
   "execution_count": 23,
   "id": "766b8dc9",
   "metadata": {},
   "outputs": [
    {
     "name": "stdout",
     "output_type": "stream",
     "text": [
      "('Female', 15, 520)\n",
      "('Male', 20, 400)\n",
      "('Female', 13, 300)\n",
      "('Female', 19, 300)\n",
      "('Female', 11, 200)\n",
      "('Male', 14, 200)\n",
      "('Male', 18, 200)\n",
      "('Male', 8, 150)\n",
      "('Female', 9, 150)\n",
      "('Male', 10, 150)\n",
      "('Male', 1, 100)\n",
      "('Male', 2, 100)\n",
      "('Male', 3, 100)\n",
      "('Female', 6, 100)\n",
      "('Female', 7, 100)\n",
      "('Male', 16, 100)\n",
      "('Female', 17, 100)\n",
      "('Female', 5, 35)\n",
      "('Male', 12, 35)\n"
     ]
    }
   ],
   "source": [
    "# update records using between \n",
    "sq4 = \"UPDATE score2 SET marks=150 WHERE student_id BETWEEN 8 AND 10\"\n",
    "cursor.execute(sq4)\n",
    "\n",
    "#verify the result\n",
    "rs1 = cursor.execute(\"SELECT * FROM score2 ORDER BY marks desc\")\n",
    "for row in rs1:\n",
    "    print(row)"
   ]
  },
  {
   "cell_type": "code",
   "execution_count": 24,
   "id": "d556009f",
   "metadata": {},
   "outputs": [
    {
     "name": "stdout",
     "output_type": "stream",
     "text": [
      "(35,)\n"
     ]
    }
   ],
   "source": [
    "# MIN function for minimum value get\n",
    "RS =  cursor.execute(\"SELECT MIN(marks) FROM score2\")\n",
    "for row in RS:\n",
    "    print(row)"
   ]
  },
  {
   "cell_type": "code",
   "execution_count": 25,
   "id": "525f9941",
   "metadata": {},
   "outputs": [
    {
     "name": "stdout",
     "output_type": "stream",
     "text": [
      "(520,)\n"
     ]
    }
   ],
   "source": [
    "# MAX function use for maximun value\n",
    "RS1 = cursor.execute(\"SELECT MAX(marks) FROM score2\")\n",
    "for row in RS1:\n",
    "    print(row)"
   ]
  },
  {
   "cell_type": "code",
   "execution_count": 27,
   "id": "1a50861a",
   "metadata": {},
   "outputs": [
    {
     "name": "stdout",
     "output_type": "stream",
     "text": [
      "Minimum Marks =  [(35,)]\n",
      "Maximum Marks =  (520,)\n"
     ]
    }
   ],
   "source": [
    "#min function with fetchone\n",
    "res = cursor.execute(\"SELECT MIN(marks) FROM score2\")\n",
    "print('Minimum Marks = ', res.fetchall())\n",
    "\n",
    "# Max function\n",
    "res = cursor.execute(\"SELECT MAX(marks) FROM score2\")\n",
    "print('Maximum Marks = ', res.fetchone())"
   ]
  },
  {
   "cell_type": "code",
   "execution_count": 21,
   "id": "0aa4cb71",
   "metadata": {},
   "outputs": [],
   "source": [
    "import sqlite3\n",
    "db = sqlite3.connect('FirstDatabse.db')\n",
    "cursor = db.cursor()"
   ]
  },
  {
   "cell_type": "code",
   "execution_count": 2,
   "id": "0e6d8f1c",
   "metadata": {},
   "outputs": [],
   "source": [
    "db = sqlite3.connect(\"student_curse_database.db\")"
   ]
  },
  {
   "cell_type": "code",
   "execution_count": 3,
   "id": "ff359ea5",
   "metadata": {},
   "outputs": [],
   "source": [
    "cur = db.cursor()"
   ]
  },
  {
   "cell_type": "code",
   "execution_count": 4,
   "id": "eba22b34",
   "metadata": {},
   "outputs": [
    {
     "data": {
      "text/plain": [
       "<sqlite3.Cursor at 0x2a6aed8bd50>"
      ]
     },
     "execution_count": 4,
     "metadata": {},
     "output_type": "execute_result"
    }
   ],
   "source": [
    "cur.execute(\"create table course1(courseid int primary key, cursename text, duration int)\")"
   ]
  },
  {
   "cell_type": "code",
   "execution_count": 7,
   "id": "4c91aeee",
   "metadata": {},
   "outputs": [
    {
     "data": {
      "text/plain": [
       "<sqlite3.Cursor at 0x2a6aed8bd50>"
      ]
     },
     "execution_count": 7,
     "metadata": {},
     "output_type": "execute_result"
    }
   ],
   "source": [
    "cur.execute(\"create table student1(roll_no int primary key, studentname text, age int,courseid int, foreign key(courseid) references course1(course1))\")"
   ]
  },
  {
   "cell_type": "code",
   "execution_count": 8,
   "id": "9688c13f",
   "metadata": {},
   "outputs": [
    {
     "name": "stdout",
     "output_type": "stream",
     "text": [
      "3 record(s) inserted\n"
     ]
    }
   ],
   "source": [
    "cur.execute(\"insert into course1 values(78,'Data science',12),(56,'Python course',4),(101,'Database',7)\")\n",
    "print(cur.rowcount, \"record(s) inserted\")\n",
    "db.commit;"
   ]
  },
  {
   "cell_type": "code",
   "execution_count": 9,
   "id": "a3248042",
   "metadata": {},
   "outputs": [
    {
     "name": "stdout",
     "output_type": "stream",
     "text": [
      "4 record(s) iinserted\n"
     ]
    }
   ],
   "source": [
    "cur.execute(\"insert into student1 values(1,'yogesh',30,78),(2,'Tara',25,56),(3,'Ravi',26,56),(4,'Rashi',2,78)\")\n",
    "print(cur.rowcount,\"record(s) iinserted\")\n",
    "db.commit;"
   ]
  },
  {
   "cell_type": "code",
   "execution_count": 11,
   "id": "bcfffa9e",
   "metadata": {},
   "outputs": [
    {
     "data": {
      "text/plain": [
       "[(78, 'Data science', 12), (56, 'Python course', 4), (101, 'Database', 7)]"
      ]
     },
     "execution_count": 11,
     "metadata": {},
     "output_type": "execute_result"
    }
   ],
   "source": [
    "result = cur.execute(\"select * from course1\")\n",
    "result.fetchall()"
   ]
  },
  {
   "cell_type": "raw",
   "id": "0171e091",
   "metadata": {},
   "source": []
  },
  {
   "cell_type": "code",
   "execution_count": 12,
   "id": "b049878f",
   "metadata": {},
   "outputs": [
    {
     "data": {
      "text/plain": [
       "[(1, 'yogesh', 30, 78),\n",
       " (2, 'Tara', 25, 56),\n",
       " (3, 'Ravi', 26, 56),\n",
       " (4, 'Rashi', 2, 78)]"
      ]
     },
     "execution_count": 12,
     "metadata": {},
     "output_type": "execute_result"
    }
   ],
   "source": [
    "res = cur.execute(\"select * from student1\")\n",
    "res.fetchall()"
   ]
  },
  {
   "cell_type": "code",
   "execution_count": 16,
   "id": "a3f9b91e",
   "metadata": {},
   "outputs": [
    {
     "name": "stdout",
     "output_type": "stream",
     "text": [
      "(78,)\n"
     ]
    }
   ],
   "source": [
    "results = cur.execute('select courseid from course1 where cursename= \"Data science\"')\n",
    "for i in results:\n",
    "    print(i)"
   ]
  },
  {
   "cell_type": "code",
   "execution_count": 17,
   "id": "0bd20695",
   "metadata": {},
   "outputs": [
    {
     "data": {
      "text/plain": [
       "[(1, 'yogesh', 30, 78), (4, 'Rashi', 2, 78)]"
      ]
     },
     "execution_count": 17,
     "metadata": {},
     "output_type": "execute_result"
    }
   ],
   "source": [
    "results = cur.execute('select *from student1 where courseid = (select courseid from course1 where cursename = \"Data science\")')\n",
    "results.fetchall()"
   ]
  },
  {
   "cell_type": "code",
   "execution_count": 18,
   "id": "9f4b0ef8",
   "metadata": {},
   "outputs": [
    {
     "data": {
      "text/plain": [
       "[(2, 'Tara', 25, 56), (3, 'Ravi', 26, 56)]"
      ]
     },
     "execution_count": 18,
     "metadata": {},
     "output_type": "execute_result"
    }
   ],
   "source": [
    "results = cur.execute('select *from student1 where courseid = (select courseid from course1 where cursename = \"Python course\")')\n",
    "results.fetchall()"
   ]
  },
  {
   "cell_type": "code",
   "execution_count": 19,
   "id": "3bbea7cf",
   "metadata": {},
   "outputs": [],
   "source": [
    "#join\n",
    "# Different type of SQL joins\n",
    "# (INNER) join: returns all records that have matching values in both table\n",
    "# LEFT (OUTER) join : Returns all records from the left table, and the matched records from the right table\n",
    "# Right (Outer) Join : Returns all records from the right table, aand the matched records from the left table\n",
    "# full (outer) join : Returns  all the records when there is a match in either left or right table"
   ]
  },
  {
   "cell_type": "code",
   "execution_count": 20,
   "id": "d4e7ae1a",
   "metadata": {},
   "outputs": [
    {
     "name": "stdout",
     "output_type": "stream",
     "text": [
      "Name stud_ID phone_num    \n",
      "=====================\n",
      "('yogesh', 101, 8945454545)\n",
      "('ravi', 102, 2525252525)\n"
     ]
    }
   ],
   "source": [
    "#crate one more table\n",
    "cur.execute(\"create table students(student_name text, student_id int primary key,phone_number int)\")\n",
    "cur.execute(\"insert  into students values('yogesh',101,8945454545),('ravi',102,2525252525)\")\n",
    "db.commit;\n",
    "\n",
    "#verify if rocres inserted\n",
    "result = cur.execute(\"select*from students\")\n",
    "\n",
    "print('Name stud_ID phone_num    \\n=====================')\n",
    "for row in result:\n",
    "    print(row)"
   ]
  },
  {
   "cell_type": "code",
   "execution_count": 28,
   "id": "8e747e62",
   "metadata": {},
   "outputs": [
    {
     "ename": "IntegrityError",
     "evalue": "UNIQUE constraint failed: students.student_id",
     "output_type": "error",
     "traceback": [
      "\u001b[1;31m---------------------------------------------------------------------------\u001b[0m",
      "\u001b[1;31mIntegrityError\u001b[0m                            Traceback (most recent call last)",
      "\u001b[1;32m~\\AppData\\Local\\Temp/ipykernel_8060/1971906487.py\u001b[0m in \u001b[0;36m<module>\u001b[1;34m\u001b[0m\n\u001b[0;32m      1\u001b[0m \u001b[1;31m#crate one more table\u001b[0m\u001b[1;33m\u001b[0m\u001b[1;33m\u001b[0m\u001b[0m\n\u001b[0;32m      2\u001b[0m \u001b[1;31m#cursor.execute(\"create table students(student_name text, student_id int primary key,phone_number int)\")\u001b[0m\u001b[1;33m\u001b[0m\u001b[1;33m\u001b[0m\u001b[0m\n\u001b[1;32m----> 3\u001b[1;33m \u001b[0mcursor\u001b[0m\u001b[1;33m.\u001b[0m\u001b[0mexecute\u001b[0m\u001b[1;33m(\u001b[0m\u001b[1;34m\"insert  into students values('yogesh',1,8945454545),('ravi',1,2525252525)\"\u001b[0m\u001b[1;33m)\u001b[0m\u001b[1;33m\u001b[0m\u001b[1;33m\u001b[0m\u001b[0m\n\u001b[0m\u001b[0;32m      4\u001b[0m \u001b[0mdb\u001b[0m\u001b[1;33m.\u001b[0m\u001b[0mcommit\u001b[0m\u001b[1;33m;\u001b[0m\u001b[1;33m\u001b[0m\u001b[1;33m\u001b[0m\u001b[0m\n\u001b[0;32m      5\u001b[0m \u001b[1;33m\u001b[0m\u001b[0m\n",
      "\u001b[1;31mIntegrityError\u001b[0m: UNIQUE constraint failed: students.student_id"
     ]
    }
   ],
   "source": [
    "#crate one more table\n",
    "#cursor.execute(\"create table students(student_name text, student_id int primary key,phone_number int)\")\n",
    "cursor.execute(\"insert  into students values('yogesh',1,8945454545),('ravi',1,2525252525)\")\n",
    "db.commit;\n",
    "\n",
    "#verify if rocres inserted\n",
    "result = cursor.execute(\"select*from students\")\n",
    "\n",
    "print('Name stud_ID phone_num    \\n=====================')\n",
    "for row in result:\n",
    "    print(row) "
   ]
  },
  {
   "cell_type": "code",
   "execution_count": 26,
   "id": "92fb7441",
   "metadata": {},
   "outputs": [
    {
     "name": "stdout",
     "output_type": "stream",
     "text": [
      "('Male', 1, 100)\n",
      "('Male', 2, 100)\n",
      "('Male', 3, 100)\n",
      "('Male', 4, 100)\n",
      "('Female', 5, 100)\n",
      "('Female', 6, 100)\n",
      "('Female', 7, 100)\n",
      "('Male', 8, 100)\n",
      "('Female', 9, 200)\n",
      "('Male', 10, 100)\n",
      "('Female', 11, 200)\n",
      "('Male', 12, 100)\n",
      "('Female', 13, 300)\n",
      "('Male', 14, 200)\n",
      "('Female', 15, 520)\n",
      "('Male', 16, 100)\n",
      "('Female', 17, 100)\n",
      "('Male', 18, 200)\n",
      "('Female', 19, 300)\n",
      "('Male', 20, 400)\n"
     ]
    }
   ],
   "source": [
    "results = cursor.execute(\"SELECT * FROM score2\")\n",
    "for row in results:\n",
    "    print(row)"
   ]
  },
  {
   "cell_type": "code",
   "execution_count": 33,
   "id": "6e06d5bf",
   "metadata": {},
   "outputs": [
    {
     "name": "stdout",
     "output_type": "stream",
     "text": [
      "(1, 'yogesh', 'Male', 100)\n",
      "(2, 'ravi', 'Male', 100)\n"
     ]
    }
   ],
   "source": [
    "#inner join\n",
    "sq1 = 'select students.student_id,students.student_name,score2.gender,score2.marks from score2 inner join students on students.student_id= score2.student_id'\n",
    "result = cursor.execute(sq1)\n",
    "for row in result:\n",
    "    print(row)"
   ]
  },
  {
   "cell_type": "code",
   "execution_count": 32,
   "id": "5e8222da",
   "metadata": {},
   "outputs": [
    {
     "name": "stdout",
     "output_type": "stream",
     "text": [
      "Name stud_ID phone_num    \n",
      "=====================\n",
      "('yogesh', 101, 8945454545)\n",
      "('ravi', 102, 2525252525)\n",
      "('yogesh', 1, 8945454545)\n",
      "('ravi', 2, 2525252525)\n"
     ]
    }
   ],
   "source": [
    "cursor.execute(\"insert  into students values('yogesh',1,8945454545),('ravi',2,2525252525)\")\n",
    "db.commit;\n",
    "\n",
    "#verify if rocres inserted\n",
    "result = cursor.execute(\"select*from students\")\n",
    "\n",
    "print('Name stud_ID phone_num    \\n=====================')\n",
    "for row in result:\n",
    "    print(row)"
   ]
  },
  {
   "cell_type": "code",
   "execution_count": 34,
   "id": "f2faaea7",
   "metadata": {},
   "outputs": [
    {
     "name": "stdout",
     "output_type": "stream",
     "text": [
      "(1, 'yogesh', 'Male', 100)\n",
      "(2, 'ravi', 'Male', 100)\n",
      "(None, None, 'Male', 100)\n",
      "(None, None, 'Male', 100)\n",
      "(None, None, 'Female', 100)\n",
      "(None, None, 'Female', 100)\n",
      "(None, None, 'Female', 100)\n",
      "(None, None, 'Male', 100)\n",
      "(None, None, 'Female', 200)\n",
      "(None, None, 'Male', 100)\n",
      "(None, None, 'Female', 200)\n",
      "(None, None, 'Male', 100)\n",
      "(None, None, 'Female', 300)\n",
      "(None, None, 'Male', 200)\n",
      "(None, None, 'Female', 520)\n",
      "(None, None, 'Male', 100)\n",
      "(None, None, 'Female', 100)\n",
      "(None, None, 'Male', 200)\n",
      "(None, None, 'Female', 300)\n",
      "(None, None, 'Male', 400)\n"
     ]
    }
   ],
   "source": [
    "#Left join\n",
    "sq1 = 'select students.student_id,students.student_name,score2.gender,score2.marks from score2 left join students on students.student_id= score2.student_id'\n",
    "result = cursor.execute(sq1)\n",
    "for row in result:\n",
    "    print(row)"
   ]
  },
  {
   "cell_type": "code",
   "execution_count": 36,
   "id": "92853184",
   "metadata": {},
   "outputs": [
    {
     "data": {
      "text/plain": [
       "<sqlite3.Cursor at 0x2a6ae014b20>"
      ]
     },
     "execution_count": 36,
     "metadata": {},
     "output_type": "execute_result"
    }
   ],
   "source": [
    "#Drop Table : Delete table from SQL\n",
    "sql = 'drop table score2'\n",
    "cursor.execute(sql)"
   ]
  },
  {
   "cell_type": "code",
   "execution_count": 37,
   "id": "6b99ea51",
   "metadata": {},
   "outputs": [
    {
     "data": {
      "text/plain": [
       "<sqlite3.Cursor at 0x2a6ae014b20>"
      ]
     },
     "execution_count": 37,
     "metadata": {},
     "output_type": "execute_result"
    }
   ],
   "source": [
    "sql = 'drop table students'\n",
    "cursor.execute(sql)"
   ]
  },
  {
   "cell_type": "code",
   "execution_count": 38,
   "id": "bfd20157",
   "metadata": {},
   "outputs": [],
   "source": [
    "db.close()"
   ]
  },
  {
   "cell_type": "code",
   "execution_count": null,
   "id": "c47b20c9",
   "metadata": {},
   "outputs": [],
   "source": []
  }
 ],
 "metadata": {
  "kernelspec": {
   "display_name": "Python 3 (ipykernel)",
   "language": "python",
   "name": "python3"
  },
  "language_info": {
   "codemirror_mode": {
    "name": "ipython",
    "version": 3
   },
   "file_extension": ".py",
   "mimetype": "text/x-python",
   "name": "python",
   "nbconvert_exporter": "python",
   "pygments_lexer": "ipython3",
   "version": "3.9.7"
  }
 },
 "nbformat": 4,
 "nbformat_minor": 5
}
