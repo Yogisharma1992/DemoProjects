{
 "cells": [
  {
   "cell_type": "code",
   "execution_count": 1,
   "id": "3f1560d1",
   "metadata": {},
   "outputs": [],
   "source": [
    "#Object Oriented Programming:-->\n",
    "#OOP is a programming paradigm that allows abstraction through the concept of interacting entities. this programming works\n",
    "# contradictory to conventional model and is procedural, in which programs are organized as a sequenceof commands pf statement\n",
    "# to perfrom"
   ]
  },
  {
   "cell_type": "code",
   "execution_count": 2,
   "id": "6c3eb7e1",
   "metadata": {},
   "outputs": [],
   "source": [
    "#how to define Classes\n",
    "class class_name:\n",
    "    pass"
   ]
  },
  {
   "cell_type": "code",
   "execution_count": 12,
   "id": "d58f0a21",
   "metadata": {},
   "outputs": [],
   "source": [
    "#__init__    ::::---> in it self (register) there is two underscroe\n",
    "class Gmail:\n",
    "    def __init__(self,name,last_name,city,user_id,password): #attribute/arguments\n",
    "        \n",
    "        self.name = name\n",
    "        self.last_name = last_name\n",
    "        self.city = city\n",
    "        self.user_id = user_id\n",
    "        self.password = password\n",
    "    #methods :: methods are nothing but is a function\n",
    "    def login(self):\n",
    "        while True:\n",
    "            signin = input('Email--')\n",
    "            password = input('Password--')\n",
    "            if signin ==self.user_id and password ==self.password:\n",
    "                print('Successfully login')\n",
    "                break\n",
    "            else:\n",
    "                print('User ID or password Invalid')\n",
    "                continue\n",
    "    def personal_info(self):\n",
    "        print('Name: ', self.name)\n",
    "        print('Last name: ', self.last_name)\n",
    "        print('City: ',self.city)\n",
    "    def general_info(self):\n",
    "        print('Langugae: ', 'English(US)')\n",
    "        print('User ID: ',self.user_id)"
   ]
  },
  {
   "cell_type": "code",
   "execution_count": 13,
   "id": "c21dc23d",
   "metadata": {},
   "outputs": [],
   "source": [
    "mail = Gmail('yogesh','sharma','rajasthan','abc@gmail.com','abc')"
   ]
  },
  {
   "cell_type": "code",
   "execution_count": 14,
   "id": "8b7dce91",
   "metadata": {},
   "outputs": [
    {
     "name": "stdout",
     "output_type": "stream",
     "text": [
      "Email--abc@gmail.com\n",
      "Password--abc\n",
      "Successfully login\n"
     ]
    }
   ],
   "source": [
    "mail.login()"
   ]
  },
  {
   "cell_type": "code",
   "execution_count": 16,
   "id": "72c97ec5",
   "metadata": {},
   "outputs": [
    {
     "name": "stdout",
     "output_type": "stream",
     "text": [
      "Name:  yogesh\n",
      "Last name:  sharma\n",
      "City:  rajasthan\n"
     ]
    }
   ],
   "source": [
    "mail.personal_info()"
   ]
  },
  {
   "cell_type": "code",
   "execution_count": 17,
   "id": "c7646f21",
   "metadata": {},
   "outputs": [
    {
     "name": "stdout",
     "output_type": "stream",
     "text": [
      "Langugae:  English(US)\n",
      "User ID:  abc@gmail.com\n"
     ]
    }
   ],
   "source": [
    "mail.general_info()"
   ]
  },
  {
   "cell_type": "code",
   "execution_count": 2,
   "id": "e803b66e",
   "metadata": {},
   "outputs": [],
   "source": [
    "#__init__    ::::---> in it self (register) there is two underscroe\n",
    "class Gmail:\n",
    "    def __init__(self,name,last_name,city,user_id,password): #attribute/arguments\n",
    "        \n",
    "        self.name = name\n",
    "        self.last_name = last_name\n",
    "        self.city = city\n",
    "        self.user_id = user_id\n",
    "        self.password = password\n",
    "    #methods :: methods are nothing but is a function\n",
    "    def login(self):\n",
    "        while True:\n",
    "            signin = input('Email--')\n",
    "            password = input('Password--')\n",
    "            if signin ==self.user_id and password ==self.password:\n",
    "                print('Successfully login')\n",
    "                break\n",
    "            else:\n",
    "                print('User ID or password Invalid')\n",
    "                continue\n",
    "    def personal_info(self):\n",
    "        print('Name: ', self.name)\n",
    "        print('Last name: ', self.last_name)\n",
    "        print('City: ',self.city)\n",
    "    def general_info(self):\n",
    "        print('Langugae: ', 'English(US)')\n",
    "        print('User ID: ',self.user_id)"
   ]
  },
  {
   "cell_type": "code",
   "execution_count": 4,
   "id": "465c6b84",
   "metadata": {},
   "outputs": [],
   "source": [
    "#inheritance\n",
    "# property of inherit one class to another class\n",
    "class Gmail_New(Gmail):\n",
    "    def __init__(self,phone_number,*args):\n",
    "        super(Gmail_New,self).__init__(*args)\n",
    "        self.phone_number = phone_number\n",
    "    def password_recovery(self):\n",
    "        phone = int(input('Enter registered phone number:'))\n",
    "        if phone==self.phone_number:\n",
    "            print('Your password is: ',self.password)\n",
    "        else:\n",
    "            print('Invalid Phone number')"
   ]
  },
  {
   "cell_type": "code",
   "execution_count": 5,
   "id": "c99eb225",
   "metadata": {},
   "outputs": [],
   "source": [
    "new_mail = Gmail_New(8989898989,'yogesh','sharma','rajasthan','abc@gmail.com','abc')"
   ]
  },
  {
   "cell_type": "code",
   "execution_count": 6,
   "id": "4c61a128",
   "metadata": {},
   "outputs": [
    {
     "name": "stdout",
     "output_type": "stream",
     "text": [
      "Enter registered phone number:8989898989\n",
      "Your password is:  abc\n"
     ]
    }
   ],
   "source": [
    "new_mail.password_recovery()"
   ]
  },
  {
   "cell_type": "code",
   "execution_count": 7,
   "id": "50f4f367",
   "metadata": {},
   "outputs": [
    {
     "name": "stdout",
     "output_type": "stream",
     "text": [
      "Email--abc@gmail.com\n",
      "Password--abc\n",
      "Successfully login\n"
     ]
    }
   ],
   "source": [
    "new_mail.login()"
   ]
  },
  {
   "cell_type": "code",
   "execution_count": 9,
   "id": "85045ae4",
   "metadata": {},
   "outputs": [
    {
     "name": "stdout",
     "output_type": "stream",
     "text": [
      "Tyres: \n",
      " \tBranch: MRF\n",
      " \tBelted_bias: True\n",
      " \tOptimal Pressure: 34\n",
      "Engine: \n",
      " \tFuel Type: Petrol\n",
      " \tNoise Level: 2.3\n",
      "Body: \n",
      " \tSize: SUV\n"
     ]
    }
   ],
   "source": [
    "#Encapsulation ::---> extend a class which consists on wrapping an object with a second one.\n",
    "class Tyres:\n",
    "    def __init__(self,branch, belted_bias,opt_preesure):\n",
    "        self.branch = branch\n",
    "        self.belted_bias = belted_bias\n",
    "        self.opt_preesure = opt_preesure\n",
    "    def __str__(self):    #__str__ can be used if you dont want to define a function name but you want this execute.\n",
    "        return('Tyres: \\n \\tBranch: '+self.branch +\n",
    "              '\\n \\tBelted_bias: '+ str(self.belted_bias)+\n",
    "              '\\n \\tOptimal Pressure: '+ str(self.opt_preesure))\n",
    "class Engine:\n",
    "    def __init__(self,fuel_type,noise_level):\n",
    "        self.fuel_type = fuel_type\n",
    "        self.noise_level=noise_level\n",
    "    def __str__(self):\n",
    "        return('Engine: \\n \\tFuel Type: '+self.fuel_type+\n",
    "              '\\n \\tNoise Level: '+str(self.noise_level))\n",
    "class Body:\n",
    "    def __init__(self,size):\n",
    "        self.size = size\n",
    "    def __str__(self):\n",
    "        return 'Body: \\n \\tSize: '+ self.size\n",
    "class car:\n",
    "    def __init__(self,tyres,engine,body):\n",
    "        self.tyres=tyres\n",
    "        self.engine=engine\n",
    "        self.body=body\n",
    "    def __str__(self):\n",
    "        return str(self.tyres)+'\\n'+str(self.engine)+'\\n'+str(self.body)\n",
    "t= Tyres('MRF',True,34)  #making object for Tyres Class\n",
    "e = Engine('Petrol',2.3)\n",
    "b = Body('SUV')\n",
    "c = car(t,e,b)\n",
    "print(c)"
   ]
  },
  {
   "cell_type": "code",
   "execution_count": null,
   "id": "d2475431",
   "metadata": {},
   "outputs": [],
   "source": []
  }
 ],
 "metadata": {
  "kernelspec": {
   "display_name": "Python 3 (ipykernel)",
   "language": "python",
   "name": "python3"
  },
  "language_info": {
   "codemirror_mode": {
    "name": "ipython",
    "version": 3
   },
   "file_extension": ".py",
   "mimetype": "text/x-python",
   "name": "python",
   "nbconvert_exporter": "python",
   "pygments_lexer": "ipython3",
   "version": "3.9.7"
  }
 },
 "nbformat": 4,
 "nbformat_minor": 5
}
