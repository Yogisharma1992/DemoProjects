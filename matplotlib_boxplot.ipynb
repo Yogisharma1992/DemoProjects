{
 "cells": [
  {
   "cell_type": "code",
   "execution_count": 1,
   "id": "4a5043ab",
   "metadata": {},
   "outputs": [],
   "source": [
    "import numpy as np\n",
    "import pandas as pd\n",
    "import seaborn as sns\n",
    "import matplotlib.pyplot as plt\n",
    "%matplotlib inline\n",
    "\n",
    "import warnings\n",
    "warnings.filterwarnings('ignore')"
   ]
  },
  {
   "cell_type": "code",
   "execution_count": 2,
   "id": "e55d3777",
   "metadata": {},
   "outputs": [
    {
     "data": {
      "text/html": [
       "<div>\n",
       "<style scoped>\n",
       "    .dataframe tbody tr th:only-of-type {\n",
       "        vertical-align: middle;\n",
       "    }\n",
       "\n",
       "    .dataframe tbody tr th {\n",
       "        vertical-align: top;\n",
       "    }\n",
       "\n",
       "    .dataframe thead th {\n",
       "        text-align: right;\n",
       "    }\n",
       "</style>\n",
       "<table border=\"1\" class=\"dataframe\">\n",
       "  <thead>\n",
       "    <tr style=\"text-align: right;\">\n",
       "      <th></th>\n",
       "      <th>Age_Years</th>\n",
       "      <th>Salary_Thousands</th>\n",
       "    </tr>\n",
       "  </thead>\n",
       "  <tbody>\n",
       "    <tr>\n",
       "      <th>0</th>\n",
       "      <td>10</td>\n",
       "      <td>15</td>\n",
       "    </tr>\n",
       "    <tr>\n",
       "      <th>1</th>\n",
       "      <td>23</td>\n",
       "      <td>22</td>\n",
       "    </tr>\n",
       "    <tr>\n",
       "      <th>2</th>\n",
       "      <td>22</td>\n",
       "      <td>24</td>\n",
       "    </tr>\n",
       "    <tr>\n",
       "      <th>3</th>\n",
       "      <td>25</td>\n",
       "      <td>25</td>\n",
       "    </tr>\n",
       "    <tr>\n",
       "      <th>4</th>\n",
       "      <td>20</td>\n",
       "      <td>30</td>\n",
       "    </tr>\n",
       "    <tr>\n",
       "      <th>5</th>\n",
       "      <td>23</td>\n",
       "      <td>23</td>\n",
       "    </tr>\n",
       "    <tr>\n",
       "      <th>6</th>\n",
       "      <td>24</td>\n",
       "      <td>34</td>\n",
       "    </tr>\n",
       "    <tr>\n",
       "      <th>7</th>\n",
       "      <td>27</td>\n",
       "      <td>43</td>\n",
       "    </tr>\n",
       "    <tr>\n",
       "      <th>8</th>\n",
       "      <td>25</td>\n",
       "      <td>19</td>\n",
       "    </tr>\n",
       "    <tr>\n",
       "      <th>9</th>\n",
       "      <td>24</td>\n",
       "      <td>20</td>\n",
       "    </tr>\n",
       "    <tr>\n",
       "      <th>10</th>\n",
       "      <td>33</td>\n",
       "      <td>52</td>\n",
       "    </tr>\n",
       "    <tr>\n",
       "      <th>11</th>\n",
       "      <td>21</td>\n",
       "      <td>21</td>\n",
       "    </tr>\n",
       "  </tbody>\n",
       "</table>\n",
       "</div>"
      ],
      "text/plain": [
       "    Age_Years  Salary_Thousands\n",
       "0          10                15\n",
       "1          23                22\n",
       "2          22                24\n",
       "3          25                25\n",
       "4          20                30\n",
       "5          23                23\n",
       "6          24                34\n",
       "7          27                43\n",
       "8          25                19\n",
       "9          24                20\n",
       "10         33                52\n",
       "11         21                21"
      ]
     },
     "execution_count": 2,
     "metadata": {},
     "output_type": "execute_result"
    }
   ],
   "source": [
    "emp = {'Age_Years':[10,23,22,25,20,23,24,27,25,24,33,21],'Salary_Thousands':[15,22,24,25,30,23,34,43,19,20,52,21]}\n",
    "df = pd.DataFrame(data=emp)\n",
    "df"
   ]
  },
  {
   "cell_type": "code",
   "execution_count": 4,
   "id": "9f0e72cf",
   "metadata": {},
   "outputs": [
    {
     "data": {
      "image/png": "[encoded data removed]",
      "text/plain": [
       "<Figure size 360x432 with 1 Axes>"
      ]
     },
     "metadata": {
      "needs_background": "light"
     },
     "output_type": "display_data"
    }
   ],
   "source": [
    "#Box plot\n",
    "plt.figure(figsize=(5,6))\n",
    "ax = sns.boxplot(data=df)\n",
    "\n",
    "plt.yticks(range(0,60,10))   # range on y axis\n",
    "\n",
    "plt.xlabel('Age and Salary')\n",
    "plt.show()"
   ]
  },
  {
   "cell_type": "code",
   "execution_count": 5,
   "id": "c9f85d87",
   "metadata": {},
   "outputs": [],
   "source": [
    "#another way"
   ]
  },
  {
   "cell_type": "code",
   "execution_count": 6,
   "id": "fbead222",
   "metadata": {},
   "outputs": [
    {
     "data": {
      "text/plain": [
       "<AxesSubplot:>"
      ]
     },
     "execution_count": 6,
     "metadata": {},
     "output_type": "execute_result"
    },
    {
     "data": {
      "image/png": "[encoded data removed]",
      "text/plain": [
       "<Figure size 576x360 with 1 Axes>"
      ]
     },
     "metadata": {
      "needs_background": "light"
     },
     "output_type": "display_data"
    }
   ],
   "source": [
    "df.plot(kind='box',figsize=(8,5),color='r',yticks=range(8,55,5))"
   ]
  },
  {
   "cell_type": "code",
   "execution_count": 8,
   "id": "fd5b9133",
   "metadata": {},
   "outputs": [
    {
     "data": {
      "text/plain": [
       "[15, 19, 20, 21, 22, 23, 24, 25, 30, 34, 43, 52]"
      ]
     },
     "execution_count": 8,
     "metadata": {},
     "output_type": "execute_result"
    }
   ],
   "source": [
    "sal =[15,22,24,25,30,23,34,43,19,20,52,21]\n",
    "sal.sort()\n",
    "sal"
   ]
  },
  {
   "cell_type": "code",
   "execution_count": 9,
   "id": "2fd37f23",
   "metadata": {},
   "outputs": [],
   "source": [
    "#please see below example\n",
    "#[15,19,20,21,22,23,24,25,30,34,43,52]\n",
    "# n= total elements in the above example (12 items)\n",
    "# 25% = (25/100)*(n+1)=3.25 (data at 3.25 position is the 25% percentile. let's say around 20.50)\n",
    "#50% = (50/100)*(n+1)=6.5 (data at this position)\n",
    "#75% = (75/100)*(n+1)=9.75 (data at this position)"
   ]
  },
  {
   "cell_type": "code",
   "execution_count": 10,
   "id": "e28528a4",
   "metadata": {},
   "outputs": [],
   "source": [
    "#outliers\n",
    "import pandas as pd\n",
    "ser = pd.Series(sal)"
   ]
  },
  {
   "cell_type": "code",
   "execution_count": 11,
   "id": "73cff103",
   "metadata": {},
   "outputs": [
    {
     "data": {
      "text/plain": [
       "0     15\n",
       "1     19\n",
       "2     20\n",
       "3     21\n",
       "4     22\n",
       "5     23\n",
       "6     24\n",
       "7     25\n",
       "8     30\n",
       "9     34\n",
       "10    43\n",
       "11    52\n",
       "dtype: int64"
      ]
     },
     "execution_count": 11,
     "metadata": {},
     "output_type": "execute_result"
    }
   ],
   "source": [
    "ser"
   ]
  },
  {
   "cell_type": "code",
   "execution_count": 12,
   "id": "c4dfa3de",
   "metadata": {},
   "outputs": [
    {
     "name": "stdout",
     "output_type": "stream",
     "text": [
      "Q1  20.75\n",
      "Q3  31.0\n",
      "IQR  10.25\n"
     ]
    }
   ],
   "source": [
    "#1st quantile\n",
    "q1 = ser.quantile(0.25)\n",
    "print('Q1 ',q1)\n",
    "\n",
    "#3rd quantile\n",
    "q3= ser.quantile(0.75)\n",
    "print('Q3 ',q3)\n",
    "\n",
    "#find the IQR (inter quantile range) to identify outliers\n",
    "iqr= q3-q1\n",
    "print('IQR ',iqr)"
   ]
  },
  {
   "cell_type": "code",
   "execution_count": 13,
   "id": "2f4fdb9b",
   "metadata": {},
   "outputs": [],
   "source": [
    "#outlier detection formula\n",
    "#higher side ==> Q3+(1.5*IQR)\n",
    "#lower side==> Q1-(1.5*IQR)"
   ]
  },
  {
   "cell_type": "code",
   "execution_count": 14,
   "id": "d96fb825",
   "metadata": {},
   "outputs": [
    {
     "name": "stdout",
     "output_type": "stream",
     "text": [
      "46.375\n"
     ]
    }
   ],
   "source": [
    "upside = q3+(1.5*iqr)\n",
    "print(upside)"
   ]
  },
  {
   "cell_type": "code",
   "execution_count": 15,
   "id": "c5620c3c",
   "metadata": {},
   "outputs": [
    {
     "name": "stdout",
     "output_type": "stream",
     "text": [
      "5.375\n"
     ]
    }
   ],
   "source": [
    "lowerside = q1-(1.5*iqr)\n",
    "print(lowerside)"
   ]
  },
  {
   "cell_type": "code",
   "execution_count": 16,
   "id": "b8bd2d11",
   "metadata": {},
   "outputs": [
    {
     "data": {
      "text/plain": [
       "[10, 20, 21, 22, 23, 23, 24, 24, 25, 25, 27, 33]"
      ]
     },
     "execution_count": 16,
     "metadata": {},
     "output_type": "execute_result"
    }
   ],
   "source": [
    "#Age_years do it on your own?????\n",
    "age =[10,23,22,25,20,23,24,27,25,24,33,21]\n",
    "age.sort()\n",
    "age"
   ]
  },
  {
   "cell_type": "code",
   "execution_count": 17,
   "id": "fe93b863",
   "metadata": {},
   "outputs": [
    {
     "data": {
      "text/plain": [
       "0     10\n",
       "1     20\n",
       "2     21\n",
       "3     22\n",
       "4     23\n",
       "5     23\n",
       "6     24\n",
       "7     24\n",
       "8     25\n",
       "9     25\n",
       "10    27\n",
       "11    33\n",
       "dtype: int64"
      ]
     },
     "execution_count": 17,
     "metadata": {},
     "output_type": "execute_result"
    }
   ],
   "source": [
    "ser1 = pd.Series(age)\n",
    "ser1"
   ]
  },
  {
   "cell_type": "code",
   "execution_count": 18,
   "id": "456c14ef",
   "metadata": {},
   "outputs": [
    {
     "name": "stdout",
     "output_type": "stream",
     "text": [
      "Q1  21.75\n",
      "Q3  25.0\n",
      "IQR  3.25\n"
     ]
    }
   ],
   "source": [
    "#1st quantile\n",
    "q1 = ser1.quantile(0.25)\n",
    "print('Q1 ',q1)\n",
    "\n",
    "#3rd quantile\n",
    "q3= ser1.quantile(0.75)\n",
    "print('Q3 ',q3)\n",
    "\n",
    "#find the IQR (inter quantile range) to identify outliers\n",
    "iqr= q3-q1\n",
    "print('IQR ',iqr)"
   ]
  },
  {
   "cell_type": "code",
   "execution_count": 19,
   "id": "bd6b99ff",
   "metadata": {},
   "outputs": [
    {
     "name": "stdout",
     "output_type": "stream",
     "text": [
      "29.875\n"
     ]
    }
   ],
   "source": [
    "upside = q3+(1.5*iqr)\n",
    "print(upside)"
   ]
  },
  {
   "cell_type": "code",
   "execution_count": 20,
   "id": "fcff7c15",
   "metadata": {},
   "outputs": [
    {
     "name": "stdout",
     "output_type": "stream",
     "text": [
      "16.875\n"
     ]
    }
   ],
   "source": [
    "lowerside = q1-(1.5*iqr)\n",
    "print(lowerside)"
   ]
  },
  {
   "cell_type": "code",
   "execution_count": null,
   "id": "1c454246",
   "metadata": {},
   "outputs": [],
   "source": []
  }
 ],
 "metadata": {
  "kernelspec": {
   "display_name": "Python 3 (ipykernel)",
   "language": "python",
   "name": "python3"
  },
  "language_info": {
   "codemirror_mode": {
    "name": "ipython",
    "version": 3
   },
   "file_extension": ".py",
   "mimetype": "text/x-python",
   "name": "python",
   "nbconvert_exporter": "python",
   "pygments_lexer": "ipython3",
   "version": "3.9.7"
  }
 },
 "nbformat": 4,
 "nbformat_minor": 5
}
