{
 "cells": [
  {
   "cell_type": "code",
   "execution_count": 1,
   "id": "a6e9a9ca",
   "metadata": {},
   "outputs": [
    {
     "name": "stdout",
     "output_type": "stream",
     "text": [
      "less than 10\n"
     ]
    }
   ],
   "source": [
    "i=8\n",
    "if i<10:\n",
    "    print(\"less than 10\")\n",
    "else:\n",
    "    print(\"greater than 10\")"
   ]
  },
  {
   "cell_type": "code",
   "execution_count": 2,
   "id": "1db5f53e",
   "metadata": {},
   "outputs": [
    {
     "name": "stdout",
     "output_type": "stream",
     "text": [
      "less than 10\n"
     ]
    }
   ],
   "source": [
    "print('less than 10') if i<10 else print('something else')"
   ]
  },
  {
   "cell_type": "code",
   "execution_count": 3,
   "id": "db3fb67c",
   "metadata": {},
   "outputs": [
    {
     "name": "stdout",
     "output_type": "stream",
     "text": [
      "please add  100 Rs for free shipping\n"
     ]
    }
   ],
   "source": [
    "item_1 =200\n",
    "item_2 = 200\n",
    "if (item_1+item_2)>500:\n",
    "    print('free shopping')\n",
    "else:\n",
    "    extra = 500-(item_1+item_2)\n",
    "    print('please add ', extra, 'Rs for free shipping')"
   ]
  },
  {
   "cell_type": "code",
   "execution_count": 5,
   "id": "fff0d382",
   "metadata": {},
   "outputs": [
    {
     "name": "stdout",
     "output_type": "stream",
     "text": [
      "both are not true\n"
     ]
    }
   ],
   "source": [
    "a = 200\n",
    "b= 33\n",
    "c= 500\n",
    "if a>b and c<a:\n",
    "    print(\"Both condition true\")\n",
    "else:\n",
    "    print(\"both are not true\")"
   ]
  },
  {
   "cell_type": "code",
   "execution_count": 6,
   "id": "479ef7c6",
   "metadata": {},
   "outputs": [
    {
     "name": "stdout",
     "output_type": "stream",
     "text": [
      "Both condition true\n"
     ]
    }
   ],
   "source": [
    "a = 200\n",
    "b= 33\n",
    "c= 500\n",
    "if a>b or c<a:\n",
    "    print(\"Both condition true\")\n",
    "else:\n",
    "    print(\"both are not true\")"
   ]
  },
  {
   "cell_type": "code",
   "execution_count": 9,
   "id": "61140712",
   "metadata": {},
   "outputs": [
    {
     "name": "stdout",
     "output_type": "stream",
     "text": [
      "pass\n"
     ]
    }
   ],
   "source": [
    "marks = 48\n",
    "if marks> 60:\n",
    "    if marks > 70:print('Distinction')\n",
    "    else:\n",
    "        print('first class')\n",
    "elif marks>50 and marks<=60:\n",
    "    print('second class')\n",
    "elif marks>=35:\n",
    "    print('pass')\n",
    "else:\n",
    "    print('Fail- Better than next time')"
   ]
  },
  {
   "cell_type": "code",
   "execution_count": 10,
   "id": "29e734a7",
   "metadata": {},
   "outputs": [
    {
     "name": "stdout",
     "output_type": "stream",
     "text": [
      "Its greater than 25\n"
     ]
    }
   ],
   "source": [
    "num1 = 20\n",
    "num2 = 30\n",
    "if num1 == '20':\n",
    "    print('Its not 20')\n",
    "elif num2>25:\n",
    "    print('Its greater than 25')"
   ]
  },
  {
   "cell_type": "code",
   "execution_count": null,
   "id": "a61eaa20",
   "metadata": {},
   "outputs": [],
   "source": []
  }
 ],
 "metadata": {
  "kernelspec": {
   "display_name": "Python 3 (ipykernel)",
   "language": "python",
   "name": "python3"
  },
  "language_info": {
   "codemirror_mode": {
    "name": "ipython",
    "version": 3
   },
   "file_extension": ".py",
   "mimetype": "text/x-python",
   "name": "python",
   "nbconvert_exporter": "python",
   "pygments_lexer": "ipython3",
   "version": "3.9.7"
  }
 },
 "nbformat": 4,
 "nbformat_minor": 5
}
