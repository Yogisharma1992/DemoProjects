{
 "cells": [
  {
   "cell_type": "code",
   "execution_count": 1,
   "id": "ea17104e",
   "metadata": {},
   "outputs": [
    {
     "name": "stdout",
     "output_type": "stream",
     "text": [
      "['Bangalore', 'mumbai', 'chandigarh', 'delhi', 'gurgaon']\n"
     ]
    }
   ],
   "source": [
    "location = ['Bangalore','mumbai','chandigarh','delhi','gurgaon']\n",
    "print(location)"
   ]
  },
  {
   "cell_type": "code",
   "execution_count": 2,
   "id": "3a9536cb",
   "metadata": {},
   "outputs": [
    {
     "name": "stdout",
     "output_type": "stream",
     "text": [
      "Bangalore\n",
      "mumbai\n",
      "chandigarh\n",
      "delhi\n",
      "gurgaon\n"
     ]
    }
   ],
   "source": [
    "for i in location:\n",
    "    print(i)"
   ]
  },
  {
   "cell_type": "code",
   "execution_count": 3,
   "id": "af8ff039",
   "metadata": {},
   "outputs": [
    {
     "name": "stdout",
     "output_type": "stream",
     "text": [
      "7000\n",
      "8000\n"
     ]
    }
   ],
   "source": [
    "sal = [2000,4000,5000,7000,8000,4500,3800]\n",
    "for val in sal:\n",
    "    if val>5000:\n",
    "        print(val)"
   ]
  },
  {
   "cell_type": "code",
   "execution_count": 10,
   "id": "97bad7aa",
   "metadata": {},
   "outputs": [
    {
     "name": "stdout",
     "output_type": "stream",
     "text": [
      "35 - pass\n",
      "67 - First class\n",
      "78 - Distinction\n",
      "79 - Distinction\n",
      "12 - Fail-Better luck next time\n",
      "34 - Fail-Better luck next time\n",
      "67 - First class\n",
      "54 - Second class\n",
      "89 - Distinction\n"
     ]
    }
   ],
   "source": [
    "student_marks = [35,67,78,79,12,34,67,54,89]\n",
    "for marks in student_marks:\n",
    "    if marks>60:\n",
    "        if marks>70:\n",
    "            print(marks,'- Distinction')\n",
    "        else:\n",
    "            print(marks,'- First class')\n",
    "    elif marks>50 and marks<=60:\n",
    "        print(marks,'- Second class')\n",
    "    elif marks>=35:\n",
    "        print(marks,'- pass')\n",
    "    else:\n",
    "        print(marks, '- Fail-Better luck next time')"
   ]
  },
  {
   "cell_type": "code",
   "execution_count": 11,
   "id": "8f17764a",
   "metadata": {},
   "outputs": [],
   "source": [
    "#list Compehension = result should be inside the list"
   ]
  },
  {
   "cell_type": "code",
   "execution_count": 12,
   "id": "2ea9d672",
   "metadata": {},
   "outputs": [
    {
     "name": "stdout",
     "output_type": "stream",
     "text": [
      "7000\n",
      "8000\n"
     ]
    }
   ],
   "source": [
    "salry = [2000,4000,5000,7000,8000,4500,3800]\n",
    "for val in salry:\n",
    "    if val>5500:\n",
    "        print(val)"
   ]
  },
  {
   "cell_type": "code",
   "execution_count": 13,
   "id": "832910e2",
   "metadata": {},
   "outputs": [
    {
     "data": {
      "text/plain": [
       "[7000, 8000]"
      ]
     },
     "execution_count": 13,
     "metadata": {},
     "output_type": "execute_result"
    }
   ],
   "source": [
    "sal = [val for val in salry if val>5500]\n",
    "sal"
   ]
  },
  {
   "cell_type": "code",
   "execution_count": 14,
   "id": "fafa3deb",
   "metadata": {},
   "outputs": [
    {
     "name": "stdout",
     "output_type": "stream",
     "text": [
      "income_till_date = >  100\n",
      "income_till_date = >  250\n",
      "income_till_date = >  350\n",
      "income_till_date = >  550\n",
      "income_till_date = >  700\n",
      "income_till_date = >  900\n",
      "income_till_date = >  1200\n",
      "the total weekly income is == >  1200\n"
     ]
    }
   ],
   "source": [
    "#list of number\n",
    "daily_sales = [100,150,100,200,150,200,300]\n",
    "#variable to store the sum\n",
    "income_till_date = 0\n",
    "#iteration over the list\n",
    "for val in daily_sales:\n",
    "    income_till_date = income_till_date+val\n",
    "    print('income_till_date = > ', income_till_date)\n",
    "#total income\n",
    "print('the total weekly income is == > ',income_till_date)"
   ]
  },
  {
   "cell_type": "code",
   "execution_count": 15,
   "id": "c65187eb",
   "metadata": {},
   "outputs": [],
   "source": [
    "#for loop with else"
   ]
  },
  {
   "cell_type": "code",
   "execution_count": 16,
   "id": "ca288d72",
   "metadata": {},
   "outputs": [
    {
     "name": "stdout",
     "output_type": "stream",
     "text": [
      "10\n",
      "20\n",
      "30\n",
      "no item left\n"
     ]
    }
   ],
   "source": [
    "digit = [10,20,30]\n",
    "for i in digit:\n",
    "    print(i)\n",
    "else:\n",
    "    print('no item left')"
   ]
  },
  {
   "cell_type": "code",
   "execution_count": 17,
   "id": "d2baeaef",
   "metadata": {},
   "outputs": [],
   "source": [
    "#while loop--------------------------->>>"
   ]
  },
  {
   "cell_type": "code",
   "execution_count": 20,
   "id": "2feeb28c",
   "metadata": {},
   "outputs": [
    {
     "name": "stdout",
     "output_type": "stream",
     "text": [
      "1 - Data trained\n",
      "2 - Data trained\n",
      "3 - Data trained\n",
      "4 - Data trained\n",
      "5 - Data trained\n",
      "6 - Data trained\n",
      "7 - Data trained\n",
      "8 - Data trained\n",
      "9 - Data trained\n",
      "10 - Data trained\n"
     ]
    }
   ],
   "source": [
    "i = 0\n",
    "while i<10:\n",
    "    i =i+1\n",
    "    print(i,'- Data trained')"
   ]
  },
  {
   "cell_type": "code",
   "execution_count": null,
   "id": "65fbe10e",
   "metadata": {},
   "outputs": [],
   "source": [
    "#enumerate() give output wth "
   ]
  },
  {
   "cell_type": "code",
   "execution_count": null,
   "id": "aeea3c62",
   "metadata": {},
   "outputs": [],
   "source": []
  }
 ],
 "metadata": {
  "kernelspec": {
   "display_name": "Python 3 (ipykernel)",
   "language": "python",
   "name": "python3"
  },
  "language_info": {
   "codemirror_mode": {
    "name": "ipython",
    "version": 3
   },
   "file_extension": ".py",
   "mimetype": "text/x-python",
   "name": "python",
   "nbconvert_exporter": "python",
   "pygments_lexer": "ipython3",
   "version": "3.9.7"
  }
 },
 "nbformat": 4,
 "nbformat_minor": 5
}
