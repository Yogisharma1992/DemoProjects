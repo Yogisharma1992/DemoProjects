{
 "cells": [
  {
   "cell_type": "code",
   "execution_count": 1,
   "id": "6c22cde2",
   "metadata": {},
   "outputs": [],
   "source": [
    "import sqlite3\n",
    "\n",
    "#connecting with the database(if there is no database exits, it will create one)\n",
    "db = sqlite3.connect(\"mytestbase.db\")"
   ]
  },
  {
   "cell_type": "code",
   "execution_count": 2,
   "id": "e68363db",
   "metadata": {},
   "outputs": [],
   "source": [
    "#declare cursor\n",
    "cursor = db.cursor()"
   ]
  },
  {
   "cell_type": "code",
   "execution_count": 3,
   "id": "eeefc738",
   "metadata": {},
   "outputs": [
    {
     "data": {
      "text/plain": [
       "<sqlite3.Cursor at 0x1fc9b810110>"
      ]
     },
     "execution_count": 3,
     "metadata": {},
     "output_type": "execute_result"
    }
   ],
   "source": [
    "#create table\n",
    "cursor.execute(\"create table scores1(gender TEXT, student_id INT PRIMARY kEY, marks INT)\")"
   ]
  },
  {
   "cell_type": "code",
   "execution_count": 4,
   "id": "416772b6",
   "metadata": {},
   "outputs": [
    {
     "name": "stdout",
     "output_type": "stream",
     "text": [
      "1 Rocord(s) inserted\n"
     ]
    }
   ],
   "source": [
    "#insert records into the table.(single records inserting)\n",
    "cursor.execute(\"insert into scores1(gender, student_id, marks) values('male',100,55)\")\n",
    "\n",
    "#save the recordes permenantly.(if you dont commit, next time you will not see the records in the table)\n",
    "db.commit()\n",
    "\n",
    "#count of records inserted\n",
    "print(cursor.rowcount,\"Rocord(s) inserted\")"
   ]
  },
  {
   "cell_type": "code",
   "execution_count": 5,
   "id": "1dea8476",
   "metadata": {},
   "outputs": [
    {
     "name": "stdout",
     "output_type": "stream",
     "text": [
      "2 Rocord(s) inserted\n"
     ]
    }
   ],
   "source": [
    "#insert multiple records into the table\n",
    "cursor.execute(\"insert into scores1(gender, student_id, marks) values('female',102,68),('female',103,60)\")\n",
    "\n",
    "#save the recordes permenantly.(if you dont commit, next time you will not see the records in the table)\n",
    "db.commit()\n",
    "\n",
    "#count of records inserted\n",
    "print(cursor.rowcount,\"Rocord(s) inserted\")"
   ]
  },
  {
   "cell_type": "code",
   "execution_count": 11,
   "id": "9e14bec0",
   "metadata": {},
   "outputs": [
    {
     "data": {
      "text/plain": [
       "<sqlite3.Cursor at 0x1fc9b810110>"
      ]
     },
     "execution_count": 11,
     "metadata": {},
     "output_type": "execute_result"
    }
   ],
   "source": [
    "cursor.execute(\"select * from scores1\")"
   ]
  },
  {
   "cell_type": "code",
   "execution_count": 7,
   "id": "913fbf77",
   "metadata": {},
   "outputs": [],
   "source": [
    "import pandas as pd"
   ]
  },
  {
   "cell_type": "code",
   "execution_count": 12,
   "id": "7307fdcd",
   "metadata": {},
   "outputs": [
    {
     "name": "stdout",
     "output_type": "stream",
     "text": [
      "        0    1   2\n",
      "0    male  100  55\n",
      "1  female  102  68\n",
      "2  female  103  60\n"
     ]
    }
   ],
   "source": [
    "df = pd.DataFrame(cursor.fetchall())\n",
    "print(df)"
   ]
  },
  {
   "cell_type": "code",
   "execution_count": 13,
   "id": "e60667fd",
   "metadata": {},
   "outputs": [
    {
     "data": {
      "text/plain": [
       "(('gender', None, None, None, None, None, None),\n",
       " ('student_id', None, None, None, None, None, None),\n",
       " ('marks', None, None, None, None, None, None))"
      ]
     },
     "execution_count": 13,
     "metadata": {},
     "output_type": "execute_result"
    }
   ],
   "source": [
    "cursor.description"
   ]
  },
  {
   "cell_type": "code",
   "execution_count": 14,
   "id": "f5878309",
   "metadata": {},
   "outputs": [
    {
     "data": {
      "text/html": [
       "<div>\n",
       "<style scoped>\n",
       "    .dataframe tbody tr th:only-of-type {\n",
       "        vertical-align: middle;\n",
       "    }\n",
       "\n",
       "    .dataframe tbody tr th {\n",
       "        vertical-align: top;\n",
       "    }\n",
       "\n",
       "    .dataframe thead th {\n",
       "        text-align: right;\n",
       "    }\n",
       "</style>\n",
       "<table border=\"1\" class=\"dataframe\">\n",
       "  <thead>\n",
       "    <tr style=\"text-align: right;\">\n",
       "      <th></th>\n",
       "      <th>gender</th>\n",
       "      <th>student_id</th>\n",
       "      <th>marks</th>\n",
       "    </tr>\n",
       "  </thead>\n",
       "  <tbody>\n",
       "    <tr>\n",
       "      <th>0</th>\n",
       "      <td>male</td>\n",
       "      <td>100</td>\n",
       "      <td>55</td>\n",
       "    </tr>\n",
       "    <tr>\n",
       "      <th>1</th>\n",
       "      <td>female</td>\n",
       "      <td>102</td>\n",
       "      <td>68</td>\n",
       "    </tr>\n",
       "    <tr>\n",
       "      <th>2</th>\n",
       "      <td>female</td>\n",
       "      <td>103</td>\n",
       "      <td>60</td>\n",
       "    </tr>\n",
       "  </tbody>\n",
       "</table>\n",
       "</div>"
      ],
      "text/plain": [
       "   gender  student_id  marks\n",
       "0    male         100     55\n",
       "1  female         102     68\n",
       "2  female         103     60"
      ]
     },
     "execution_count": 14,
     "metadata": {},
     "output_type": "execute_result"
    }
   ],
   "source": [
    "df.columns = [x[0] for x in cursor.description]\n",
    "df.head()"
   ]
  },
  {
   "cell_type": "code",
   "execution_count": 15,
   "id": "28ab5ab6",
   "metadata": {},
   "outputs": [
    {
     "data": {
      "text/plain": [
       "<sqlite3.Cursor at 0x1fc9b810110>"
      ]
     },
     "execution_count": 15,
     "metadata": {},
     "output_type": "execute_result"
    }
   ],
   "source": [
    "#just deleting for the next time usage\n",
    "sql = \"drop table scores1\"\n",
    "cursor.execute(sql)"
   ]
  },
  {
   "cell_type": "code",
   "execution_count": null,
   "id": "f62f579c",
   "metadata": {},
   "outputs": [],
   "source": []
  }
 ],
 "metadata": {
  "kernelspec": {
   "display_name": "Python 3 (ipykernel)",
   "language": "python",
   "name": "python3"
  },
  "language_info": {
   "codemirror_mode": {
    "name": "ipython",
    "version": 3
   },
   "file_extension": ".py",
   "mimetype": "text/x-python",
   "name": "python",
   "nbconvert_exporter": "python",
   "pygments_lexer": "ipython3",
   "version": "3.9.7"
  }
 },
 "nbformat": 4,
 "nbformat_minor": 5
}
