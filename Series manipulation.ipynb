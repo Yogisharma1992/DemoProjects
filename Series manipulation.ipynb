{
 "cells": [
  {
   "cell_type": "markdown",
   "id": "6a7d55d9",
   "metadata": {},
   "source": []
  },
  {
   "cell_type": "code",
   "execution_count": 1,
   "id": "b6adbfa3",
   "metadata": {},
   "outputs": [],
   "source": [
    "import numpy as np\n",
    "import pandas as pd"
   ]
  },
  {
   "cell_type": "code",
   "execution_count": 2,
   "id": "be6a7b08",
   "metadata": {},
   "outputs": [],
   "source": [
    "#You can give your own index number\n",
    "ser1 = pd.Series(data=[1,2,3,4],index=['CA','OR','CO','AZ'])"
   ]
  },
  {
   "cell_type": "code",
   "execution_count": 3,
   "id": "d9e60aa2",
   "metadata": {},
   "outputs": [
    {
     "data": {
      "text/plain": [
       "CA    1\n",
       "OR    2\n",
       "CO    3\n",
       "AZ    4\n",
       "dtype: int64"
      ]
     },
     "execution_count": 3,
     "metadata": {},
     "output_type": "execute_result"
    }
   ],
   "source": [
    "ser1"
   ]
  },
  {
   "cell_type": "code",
   "execution_count": 4,
   "id": "ce797394",
   "metadata": {},
   "outputs": [
    {
     "name": "stdout",
     "output_type": "stream",
     "text": [
      "\n",
      " Indexing by name of the item/objects (strint indentification)\n",
      "--------------------------------------------------------\n",
      "Value for CA is ser1: 1\n",
      "Value for AZ is ser1: 4\n"
     ]
    }
   ],
   "source": [
    "print(\"\\n Indexing by name of the item/objects (strint indentification)\\n\",\"-\"*56,sep='')\n",
    "print(\"Value for CA is ser1:\",ser1['CA'])\n",
    "print(\"Value for AZ is ser1:\",ser1['AZ'])"
   ]
  },
  {
   "cell_type": "code",
   "execution_count": 5,
   "id": "2dddb291",
   "metadata": {},
   "outputs": [
    {
     "data": {
      "text/plain": [
       "CA    1\n",
       "OR    2\n",
       "CO    3\n",
       "AZ    4\n",
       "dtype: int64"
      ]
     },
     "execution_count": 5,
     "metadata": {},
     "output_type": "execute_result"
    }
   ],
   "source": [
    "ser1"
   ]
  },
  {
   "cell_type": "code",
   "execution_count": 6,
   "id": "ba862f22",
   "metadata": {},
   "outputs": [
    {
     "name": "stdout",
     "output_type": "stream",
     "text": [
      "\n",
      " Indexing by name of the item/objects (strint indentification)\n",
      "--------------------------------------------------------\n",
      "Value for CA is ser1: 1\n",
      "Value for AZ is ser1: 4\n"
     ]
    }
   ],
   "source": [
    "print(\"\\n Indexing by name of the item/objects (strint indentification)\\n\",\"-\"*56,sep='')\n",
    "print(\"Value for CA is ser1:\",ser1[0])\n",
    "print(\"Value for AZ is ser1:\",ser1[3])"
   ]
  },
  {
   "cell_type": "code",
   "execution_count": 7,
   "id": "3ea9fb33",
   "metadata": {},
   "outputs": [
    {
     "data": {
      "text/plain": [
       "CA    1\n",
       "OR    2\n",
       "CO    3\n",
       "AZ    4\n",
       "dtype: int64"
      ]
     },
     "execution_count": 7,
     "metadata": {},
     "output_type": "execute_result"
    }
   ],
   "source": [
    "ser1"
   ]
  },
  {
   "cell_type": "code",
   "execution_count": 9,
   "id": "c80db84f",
   "metadata": {},
   "outputs": [
    {
     "name": "stdout",
     "output_type": "stream",
     "text": [
      "\n",
      " Indexing by Range of the item/objects (strint indentification)\n",
      "--------------------------------------------------------\n",
      "Value for CA is ser1:\n",
      "OR    2\n",
      "CO    3\n",
      "AZ    4\n",
      "dtype: int64\n"
     ]
    }
   ],
   "source": [
    "print(\"\\n Indexing by Range of the item/objects (strint indentification)\\n\",\"-\"*56,sep='')\n",
    "print(\"Value for CA is ser1:\\n\",ser1[1:4],sep='')"
   ]
  },
  {
   "cell_type": "code",
   "execution_count": 11,
   "id": "6fd78f6f",
   "metadata": {},
   "outputs": [],
   "source": [
    "ser1= pd.Series([1,2,3,4,10],['CA','OR','CO','AZ','NV'])\n",
    "ser2 = pd.Series([1,2,5,4,30],['CA','OR','NV','PA','CO'])"
   ]
  },
  {
   "cell_type": "code",
   "execution_count": 12,
   "id": "16118067",
   "metadata": {},
   "outputs": [
    {
     "name": "stdout",
     "output_type": "stream",
     "text": [
      "\n",
      "After adding the two series,the result look like this.....\n",
      "-----------------------------------------------------------\n",
      "AZ     NaN\n",
      "CA     2.0\n",
      "CO    33.0\n",
      "NV    15.0\n",
      "OR     4.0\n",
      "PA     NaN\n",
      "dtype: float64\n",
      "\n",
      "Python tries to add values where it finds common index name, and keeps NaN where indices are missing\n",
      "\n"
     ]
    }
   ],
   "source": [
    "#lets add both series\n",
    "ser3 = ser1+ser2\n",
    "print(\"\\nAfter adding the two series,the result look like this.....\\n\",\"-\"*59,sep='')\n",
    "print(ser3)\n",
    "print(\"\\nPython tries to add values where it finds common index name, and keeps NaN where indices are missing\\n\")"
   ]
  },
  {
   "cell_type": "code",
   "execution_count": 1,
   "id": "5c9c95d9",
   "metadata": {},
   "outputs": [],
   "source": [
    "import numpy as np\n",
    "import pandas as pd"
   ]
  },
  {
   "cell_type": "code",
   "execution_count": 2,
   "id": "5dddc70c",
   "metadata": {},
   "outputs": [],
   "source": [
    "ser1= pd.Series([1,2,3,4,10],['CA','OR','CO','AZ','NV'])\n",
    "ser2 = pd.Series([1,2,5,4,30],['CA','OR','NV','PA','CO'])"
   ]
  },
  {
   "cell_type": "code",
   "execution_count": 3,
   "id": "f0e2e17c",
   "metadata": {},
   "outputs": [
    {
     "name": "stdout",
     "output_type": "stream",
     "text": [
      "\n",
      "After adding the two series,the result look like this.....\n",
      "-----------------------------------------------------------\n",
      "AZ     NaN\n",
      "CA     2.0\n",
      "CO    33.0\n",
      "NV    15.0\n",
      "OR     4.0\n",
      "PA     NaN\n",
      "dtype: float64\n",
      "\n",
      "Python tries to add values where it finds common index name, and keeps NaN where indices are missing\n",
      "\n"
     ]
    }
   ],
   "source": [
    "#lets add both series\n",
    "ser3 = ser1+ser2\n",
    "print(\"\\nAfter adding the two series,the result look like this.....\\n\",\"-\"*59,sep='')\n",
    "print(ser3)\n",
    "print(\"\\nPython tries to add values where it finds common index name, and keeps NaN where indices are missing\\n\")"
   ]
  },
  {
   "cell_type": "code",
   "execution_count": null,
   "id": "a092302e",
   "metadata": {},
   "outputs": [],
   "source": []
  }
 ],
 "metadata": {
  "kernelspec": {
   "display_name": "Python 3 (ipykernel)",
   "language": "python",
   "name": "python3"
  },
  "language_info": {
   "codemirror_mode": {
    "name": "ipython",
    "version": 3
   },
   "file_extension": ".py",
   "mimetype": "text/x-python",
   "name": "python",
   "nbconvert_exporter": "python",
   "pygments_lexer": "ipython3",
   "version": "3.9.7"
  }
 },
 "nbformat": 4,
 "nbformat_minor": 5
}
